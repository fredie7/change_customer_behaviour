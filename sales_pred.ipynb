{
 "cells": [
  {
   "cell_type": "markdown",
   "id": "d810aaea",
   "metadata": {},
   "source": [
    "A SUPERSTORE GIANT SEEKS TO FIND OUT FACTORS DEBILITATING AGAINST THEIR BUSINESS AND WHAT WORKS BEST FOR THEM. THEY WOULD ALSO LIKE TO UNRAVEL WAYS TO OPTIMIZE SALES AND PROFIT."
   ]
  },
  {
   "cell_type": "markdown",
   "id": "9de531b0",
   "metadata": {},
   "source": [
    "START BY IMPORTING ANALYTICS AND MODEL DEPENDENCIES"
   ]
  },
  {
   "cell_type": "code",
   "execution_count": 591,
   "id": "4e1f1dc1",
   "metadata": {},
   "outputs": [],
   "source": [
    "import pandas as pd\n",
    "import matplotlib.pyplot as plt\n",
    "import seaborn as sns\n",
    "import numpy as np\n",
    "from sklearn.preprocessing import LabelEncoder\n",
    "from sklearn.preprocessing import StandardScaler\n",
    "from sklearn import metrics\n",
    "from scipy import stats"
   ]
  },
  {
   "cell_type": "markdown",
   "id": "a3d2c3c7",
   "metadata": {},
   "source": [
    "IMPORT DATASET"
   ]
  },
  {
   "cell_type": "code",
   "execution_count": 592,
   "id": "2533b2ff",
   "metadata": {},
   "outputs": [],
   "source": [
    "sales_data = pd.read_csv(\"sales_data.csv\",encoding='cp1252')"
   ]
  },
  {
   "cell_type": "markdown",
   "id": "c0c8a269",
   "metadata": {},
   "source": [
    "VISUALIZE THE FIRST 5 ROWS OF THE IMPORTED DATASET"
   ]
  },
  {
   "cell_type": "code",
   "execution_count": 593,
   "id": "9ca00df9",
   "metadata": {
    "scrolled": false
   },
   "outputs": [
    {
     "data": {
      "text/html": [
       "<div>\n",
       "<style scoped>\n",
       "    .dataframe tbody tr th:only-of-type {\n",
       "        vertical-align: middle;\n",
       "    }\n",
       "\n",
       "    .dataframe tbody tr th {\n",
       "        vertical-align: top;\n",
       "    }\n",
       "\n",
       "    .dataframe thead th {\n",
       "        text-align: right;\n",
       "    }\n",
       "</style>\n",
       "<table border=\"1\" class=\"dataframe\">\n",
       "  <thead>\n",
       "    <tr style=\"text-align: right;\">\n",
       "      <th></th>\n",
       "      <th>Row ID</th>\n",
       "      <th>Order ID</th>\n",
       "      <th>Order Date</th>\n",
       "      <th>Ship Date</th>\n",
       "      <th>Ship Mode</th>\n",
       "      <th>Customer ID</th>\n",
       "      <th>Customer Name</th>\n",
       "      <th>Segment</th>\n",
       "      <th>Country</th>\n",
       "      <th>City</th>\n",
       "      <th>...</th>\n",
       "      <th>Postal Code</th>\n",
       "      <th>Region</th>\n",
       "      <th>Product ID</th>\n",
       "      <th>Category</th>\n",
       "      <th>Sub-Category</th>\n",
       "      <th>Product Name</th>\n",
       "      <th>Sales</th>\n",
       "      <th>Quantity</th>\n",
       "      <th>Discount</th>\n",
       "      <th>Profit</th>\n",
       "    </tr>\n",
       "  </thead>\n",
       "  <tbody>\n",
       "    <tr>\n",
       "      <th>0</th>\n",
       "      <td>1</td>\n",
       "      <td>CA-2016-152156</td>\n",
       "      <td>11/8/2016</td>\n",
       "      <td>11/11/2016</td>\n",
       "      <td>Second Class</td>\n",
       "      <td>CG-12520</td>\n",
       "      <td>Claire Gute</td>\n",
       "      <td>Consumer</td>\n",
       "      <td>United States</td>\n",
       "      <td>Henderson</td>\n",
       "      <td>...</td>\n",
       "      <td>42420</td>\n",
       "      <td>South</td>\n",
       "      <td>FUR-BO-10001798</td>\n",
       "      <td>Furniture</td>\n",
       "      <td>Bookcases</td>\n",
       "      <td>Bush Somerset Collection Bookcase</td>\n",
       "      <td>261.9600</td>\n",
       "      <td>2</td>\n",
       "      <td>0.00</td>\n",
       "      <td>41.9136</td>\n",
       "    </tr>\n",
       "    <tr>\n",
       "      <th>1</th>\n",
       "      <td>2</td>\n",
       "      <td>CA-2016-152156</td>\n",
       "      <td>11/8/2016</td>\n",
       "      <td>11/11/2016</td>\n",
       "      <td>Second Class</td>\n",
       "      <td>CG-12520</td>\n",
       "      <td>Claire Gute</td>\n",
       "      <td>Consumer</td>\n",
       "      <td>United States</td>\n",
       "      <td>Henderson</td>\n",
       "      <td>...</td>\n",
       "      <td>42420</td>\n",
       "      <td>South</td>\n",
       "      <td>FUR-CH-10000454</td>\n",
       "      <td>Furniture</td>\n",
       "      <td>Chairs</td>\n",
       "      <td>Hon Deluxe Fabric Upholstered Stacking Chairs,...</td>\n",
       "      <td>731.9400</td>\n",
       "      <td>3</td>\n",
       "      <td>0.00</td>\n",
       "      <td>219.5820</td>\n",
       "    </tr>\n",
       "    <tr>\n",
       "      <th>2</th>\n",
       "      <td>3</td>\n",
       "      <td>CA-2016-138688</td>\n",
       "      <td>6/12/2016</td>\n",
       "      <td>6/16/2016</td>\n",
       "      <td>Second Class</td>\n",
       "      <td>DV-13045</td>\n",
       "      <td>Darrin Van Huff</td>\n",
       "      <td>Corporate</td>\n",
       "      <td>United States</td>\n",
       "      <td>Los Angeles</td>\n",
       "      <td>...</td>\n",
       "      <td>90036</td>\n",
       "      <td>West</td>\n",
       "      <td>OFF-LA-10000240</td>\n",
       "      <td>Office Supplies</td>\n",
       "      <td>Labels</td>\n",
       "      <td>Self-Adhesive Address Labels for Typewriters b...</td>\n",
       "      <td>14.6200</td>\n",
       "      <td>2</td>\n",
       "      <td>0.00</td>\n",
       "      <td>6.8714</td>\n",
       "    </tr>\n",
       "    <tr>\n",
       "      <th>3</th>\n",
       "      <td>4</td>\n",
       "      <td>US-2015-108966</td>\n",
       "      <td>10/11/2015</td>\n",
       "      <td>10/18/2015</td>\n",
       "      <td>Standard Class</td>\n",
       "      <td>SO-20335</td>\n",
       "      <td>Sean O'Donnell</td>\n",
       "      <td>Consumer</td>\n",
       "      <td>United States</td>\n",
       "      <td>Fort Lauderdale</td>\n",
       "      <td>...</td>\n",
       "      <td>33311</td>\n",
       "      <td>South</td>\n",
       "      <td>FUR-TA-10000577</td>\n",
       "      <td>Furniture</td>\n",
       "      <td>Tables</td>\n",
       "      <td>Bretford CR4500 Series Slim Rectangular Table</td>\n",
       "      <td>957.5775</td>\n",
       "      <td>5</td>\n",
       "      <td>0.45</td>\n",
       "      <td>-383.0310</td>\n",
       "    </tr>\n",
       "    <tr>\n",
       "      <th>4</th>\n",
       "      <td>5</td>\n",
       "      <td>US-2015-108966</td>\n",
       "      <td>10/11/2015</td>\n",
       "      <td>10/18/2015</td>\n",
       "      <td>Standard Class</td>\n",
       "      <td>SO-20335</td>\n",
       "      <td>Sean O'Donnell</td>\n",
       "      <td>Consumer</td>\n",
       "      <td>United States</td>\n",
       "      <td>Fort Lauderdale</td>\n",
       "      <td>...</td>\n",
       "      <td>33311</td>\n",
       "      <td>South</td>\n",
       "      <td>OFF-ST-10000760</td>\n",
       "      <td>Office Supplies</td>\n",
       "      <td>Storage</td>\n",
       "      <td>Eldon Fold 'N Roll Cart System</td>\n",
       "      <td>22.3680</td>\n",
       "      <td>2</td>\n",
       "      <td>0.20</td>\n",
       "      <td>2.5164</td>\n",
       "    </tr>\n",
       "  </tbody>\n",
       "</table>\n",
       "<p>5 rows × 21 columns</p>\n",
       "</div>"
      ],
      "text/plain": [
       "   Row ID        Order ID  Order Date   Ship Date       Ship Mode Customer ID  \\\n",
       "0       1  CA-2016-152156   11/8/2016  11/11/2016    Second Class    CG-12520   \n",
       "1       2  CA-2016-152156   11/8/2016  11/11/2016    Second Class    CG-12520   \n",
       "2       3  CA-2016-138688   6/12/2016   6/16/2016    Second Class    DV-13045   \n",
       "3       4  US-2015-108966  10/11/2015  10/18/2015  Standard Class    SO-20335   \n",
       "4       5  US-2015-108966  10/11/2015  10/18/2015  Standard Class    SO-20335   \n",
       "\n",
       "     Customer Name    Segment        Country             City  ...  \\\n",
       "0      Claire Gute   Consumer  United States        Henderson  ...   \n",
       "1      Claire Gute   Consumer  United States        Henderson  ...   \n",
       "2  Darrin Van Huff  Corporate  United States      Los Angeles  ...   \n",
       "3   Sean O'Donnell   Consumer  United States  Fort Lauderdale  ...   \n",
       "4   Sean O'Donnell   Consumer  United States  Fort Lauderdale  ...   \n",
       "\n",
       "  Postal Code  Region       Product ID         Category Sub-Category  \\\n",
       "0       42420   South  FUR-BO-10001798        Furniture    Bookcases   \n",
       "1       42420   South  FUR-CH-10000454        Furniture       Chairs   \n",
       "2       90036    West  OFF-LA-10000240  Office Supplies       Labels   \n",
       "3       33311   South  FUR-TA-10000577        Furniture       Tables   \n",
       "4       33311   South  OFF-ST-10000760  Office Supplies      Storage   \n",
       "\n",
       "                                        Product Name     Sales  Quantity  \\\n",
       "0                  Bush Somerset Collection Bookcase  261.9600         2   \n",
       "1  Hon Deluxe Fabric Upholstered Stacking Chairs,...  731.9400         3   \n",
       "2  Self-Adhesive Address Labels for Typewriters b...   14.6200         2   \n",
       "3      Bretford CR4500 Series Slim Rectangular Table  957.5775         5   \n",
       "4                     Eldon Fold 'N Roll Cart System   22.3680         2   \n",
       "\n",
       "   Discount    Profit  \n",
       "0      0.00   41.9136  \n",
       "1      0.00  219.5820  \n",
       "2      0.00    6.8714  \n",
       "3      0.45 -383.0310  \n",
       "4      0.20    2.5164  \n",
       "\n",
       "[5 rows x 21 columns]"
      ]
     },
     "execution_count": 593,
     "metadata": {},
     "output_type": "execute_result"
    }
   ],
   "source": [
    "sales_data.head()"
   ]
  },
  {
   "cell_type": "code",
   "execution_count": 594,
   "id": "8776c99f",
   "metadata": {},
   "outputs": [
    {
     "name": "stdout",
     "output_type": "stream",
     "text": [
      "Number of data points is :  9994\n"
     ]
    }
   ],
   "source": [
    "print(\"Number of data points is : \", len(sales_data))"
   ]
  },
  {
   "cell_type": "markdown",
   "id": "442c7a13",
   "metadata": {},
   "source": [
    "INFORMATION ON THE FEATURES:"
   ]
  },
  {
   "cell_type": "code",
   "execution_count": 595,
   "id": "eb8d1310",
   "metadata": {},
   "outputs": [
    {
     "name": "stdout",
     "output_type": "stream",
     "text": [
      "<class 'pandas.core.frame.DataFrame'>\n",
      "RangeIndex: 9994 entries, 0 to 9993\n",
      "Data columns (total 21 columns):\n",
      " #   Column         Non-Null Count  Dtype  \n",
      "---  ------         --------------  -----  \n",
      " 0   Row ID         9994 non-null   int64  \n",
      " 1   Order ID       9994 non-null   object \n",
      " 2   Order Date     9994 non-null   object \n",
      " 3   Ship Date      9994 non-null   object \n",
      " 4   Ship Mode      9994 non-null   object \n",
      " 5   Customer ID    9994 non-null   object \n",
      " 6   Customer Name  9994 non-null   object \n",
      " 7   Segment        9994 non-null   object \n",
      " 8   Country        9994 non-null   object \n",
      " 9   City           9994 non-null   object \n",
      " 10  State          9994 non-null   object \n",
      " 11  Postal Code    9994 non-null   int64  \n",
      " 12  Region         9994 non-null   object \n",
      " 13  Product ID     9994 non-null   object \n",
      " 14  Category       9994 non-null   object \n",
      " 15  Sub-Category   9994 non-null   object \n",
      " 16  Product Name   9994 non-null   object \n",
      " 17  Sales          9994 non-null   float64\n",
      " 18  Quantity       9994 non-null   int64  \n",
      " 19  Discount       9994 non-null   float64\n",
      " 20  Profit         9994 non-null   float64\n",
      "dtypes: float64(3), int64(3), object(15)\n",
      "memory usage: 1.6+ MB\n"
     ]
    }
   ],
   "source": [
    "sales_data.info()"
   ]
  },
  {
   "cell_type": "markdown",
   "id": "6f51de5b",
   "metadata": {},
   "source": [
    "DATASET HAS THE FOLLOWING COLUMNS:"
   ]
  },
  {
   "cell_type": "code",
   "execution_count": 596,
   "id": "2e15c671",
   "metadata": {},
   "outputs": [
    {
     "data": {
      "text/plain": [
       "Index(['Row ID', 'Order ID', 'Order Date', 'Ship Date', 'Ship Mode',\n",
       "       'Customer ID', 'Customer Name', 'Segment', 'Country', 'City', 'State',\n",
       "       'Postal Code', 'Region', 'Product ID', 'Category', 'Sub-Category',\n",
       "       'Product Name', 'Sales', 'Quantity', 'Discount', 'Profit'],\n",
       "      dtype='object')"
      ]
     },
     "execution_count": 596,
     "metadata": {},
     "output_type": "execute_result"
    }
   ],
   "source": [
    "sales_data.columns"
   ]
  },
  {
   "cell_type": "markdown",
   "id": "6527ca90",
   "metadata": {},
   "source": [
    "RENAME COLUMNS FOR EASIER CROSS-EXAMINATION:"
   ]
  },
  {
   "cell_type": "code",
   "execution_count": 597,
   "id": "e05a08fd",
   "metadata": {},
   "outputs": [],
   "source": [
    "sales_data = sales_data.rename(columns={'Row ID':'row_id','Order ID':'order_id','Order Date':'order_date','Ship Date':'ship_date','Ship Mode':'ship_mode','Customer ID':'customer_id','Customer Name':'customer_name','Segment':'segment','Country':'country','City':'city','State':'state','Postal Code':'postal_code','Region':'region','Product ID':'product_id','Category':'category','Sub-Category':'sub_category','Product Name':'product_name','Sales':'sales','Quantity':'quantity','Discount':'discount','Profit':'profit'})"
   ]
  },
  {
   "cell_type": "markdown",
   "id": "6829ab39",
   "metadata": {},
   "source": [
    "CONFIRM THAT RENAMING WAS SUCCESSFUL:"
   ]
  },
  {
   "cell_type": "code",
   "execution_count": 598,
   "id": "ea06f3fc",
   "metadata": {},
   "outputs": [
    {
     "data": {
      "text/html": [
       "<div>\n",
       "<style scoped>\n",
       "    .dataframe tbody tr th:only-of-type {\n",
       "        vertical-align: middle;\n",
       "    }\n",
       "\n",
       "    .dataframe tbody tr th {\n",
       "        vertical-align: top;\n",
       "    }\n",
       "\n",
       "    .dataframe thead th {\n",
       "        text-align: right;\n",
       "    }\n",
       "</style>\n",
       "<table border=\"1\" class=\"dataframe\">\n",
       "  <thead>\n",
       "    <tr style=\"text-align: right;\">\n",
       "      <th></th>\n",
       "      <th>row_id</th>\n",
       "      <th>order_id</th>\n",
       "      <th>order_date</th>\n",
       "      <th>ship_date</th>\n",
       "      <th>ship_mode</th>\n",
       "      <th>customer_id</th>\n",
       "      <th>customer_name</th>\n",
       "      <th>segment</th>\n",
       "      <th>country</th>\n",
       "      <th>city</th>\n",
       "      <th>...</th>\n",
       "      <th>postal_code</th>\n",
       "      <th>region</th>\n",
       "      <th>product_id</th>\n",
       "      <th>category</th>\n",
       "      <th>sub_category</th>\n",
       "      <th>product_name</th>\n",
       "      <th>sales</th>\n",
       "      <th>quantity</th>\n",
       "      <th>discount</th>\n",
       "      <th>profit</th>\n",
       "    </tr>\n",
       "  </thead>\n",
       "  <tbody>\n",
       "    <tr>\n",
       "      <th>0</th>\n",
       "      <td>1</td>\n",
       "      <td>CA-2016-152156</td>\n",
       "      <td>11/8/2016</td>\n",
       "      <td>11/11/2016</td>\n",
       "      <td>Second Class</td>\n",
       "      <td>CG-12520</td>\n",
       "      <td>Claire Gute</td>\n",
       "      <td>Consumer</td>\n",
       "      <td>United States</td>\n",
       "      <td>Henderson</td>\n",
       "      <td>...</td>\n",
       "      <td>42420</td>\n",
       "      <td>South</td>\n",
       "      <td>FUR-BO-10001798</td>\n",
       "      <td>Furniture</td>\n",
       "      <td>Bookcases</td>\n",
       "      <td>Bush Somerset Collection Bookcase</td>\n",
       "      <td>261.96</td>\n",
       "      <td>2</td>\n",
       "      <td>0.0</td>\n",
       "      <td>41.9136</td>\n",
       "    </tr>\n",
       "    <tr>\n",
       "      <th>1</th>\n",
       "      <td>2</td>\n",
       "      <td>CA-2016-152156</td>\n",
       "      <td>11/8/2016</td>\n",
       "      <td>11/11/2016</td>\n",
       "      <td>Second Class</td>\n",
       "      <td>CG-12520</td>\n",
       "      <td>Claire Gute</td>\n",
       "      <td>Consumer</td>\n",
       "      <td>United States</td>\n",
       "      <td>Henderson</td>\n",
       "      <td>...</td>\n",
       "      <td>42420</td>\n",
       "      <td>South</td>\n",
       "      <td>FUR-CH-10000454</td>\n",
       "      <td>Furniture</td>\n",
       "      <td>Chairs</td>\n",
       "      <td>Hon Deluxe Fabric Upholstered Stacking Chairs,...</td>\n",
       "      <td>731.94</td>\n",
       "      <td>3</td>\n",
       "      <td>0.0</td>\n",
       "      <td>219.5820</td>\n",
       "    </tr>\n",
       "    <tr>\n",
       "      <th>2</th>\n",
       "      <td>3</td>\n",
       "      <td>CA-2016-138688</td>\n",
       "      <td>6/12/2016</td>\n",
       "      <td>6/16/2016</td>\n",
       "      <td>Second Class</td>\n",
       "      <td>DV-13045</td>\n",
       "      <td>Darrin Van Huff</td>\n",
       "      <td>Corporate</td>\n",
       "      <td>United States</td>\n",
       "      <td>Los Angeles</td>\n",
       "      <td>...</td>\n",
       "      <td>90036</td>\n",
       "      <td>West</td>\n",
       "      <td>OFF-LA-10000240</td>\n",
       "      <td>Office Supplies</td>\n",
       "      <td>Labels</td>\n",
       "      <td>Self-Adhesive Address Labels for Typewriters b...</td>\n",
       "      <td>14.62</td>\n",
       "      <td>2</td>\n",
       "      <td>0.0</td>\n",
       "      <td>6.8714</td>\n",
       "    </tr>\n",
       "  </tbody>\n",
       "</table>\n",
       "<p>3 rows × 21 columns</p>\n",
       "</div>"
      ],
      "text/plain": [
       "   row_id        order_id order_date   ship_date     ship_mode customer_id  \\\n",
       "0       1  CA-2016-152156  11/8/2016  11/11/2016  Second Class    CG-12520   \n",
       "1       2  CA-2016-152156  11/8/2016  11/11/2016  Second Class    CG-12520   \n",
       "2       3  CA-2016-138688  6/12/2016   6/16/2016  Second Class    DV-13045   \n",
       "\n",
       "     customer_name    segment        country         city  ... postal_code  \\\n",
       "0      Claire Gute   Consumer  United States    Henderson  ...       42420   \n",
       "1      Claire Gute   Consumer  United States    Henderson  ...       42420   \n",
       "2  Darrin Van Huff  Corporate  United States  Los Angeles  ...       90036   \n",
       "\n",
       "   region       product_id         category sub_category  \\\n",
       "0   South  FUR-BO-10001798        Furniture    Bookcases   \n",
       "1   South  FUR-CH-10000454        Furniture       Chairs   \n",
       "2    West  OFF-LA-10000240  Office Supplies       Labels   \n",
       "\n",
       "                                        product_name   sales  quantity  \\\n",
       "0                  Bush Somerset Collection Bookcase  261.96         2   \n",
       "1  Hon Deluxe Fabric Upholstered Stacking Chairs,...  731.94         3   \n",
       "2  Self-Adhesive Address Labels for Typewriters b...   14.62         2   \n",
       "\n",
       "   discount    profit  \n",
       "0       0.0   41.9136  \n",
       "1       0.0  219.5820  \n",
       "2       0.0    6.8714  \n",
       "\n",
       "[3 rows x 21 columns]"
      ]
     },
     "execution_count": 598,
     "metadata": {},
     "output_type": "execute_result"
    }
   ],
   "source": [
    "sales_data.head(3)"
   ]
  },
  {
   "cell_type": "markdown",
   "id": "f156f184",
   "metadata": {},
   "source": [
    "DROP THE ROW_ID SINCE IT'S INSIGNIFICANT:"
   ]
  },
  {
   "cell_type": "code",
   "execution_count": 599,
   "id": "6fa154d2",
   "metadata": {},
   "outputs": [],
   "source": [
    "sales_data = sales_data.drop(['row_id','order_id'],axis=1)"
   ]
  },
  {
   "cell_type": "markdown",
   "id": "883da35a",
   "metadata": {},
   "source": [
    "FIND NUMBER OF DAYS BETWEEN WHEN ORDERS WERE PLACED AND DELIVERED"
   ]
  },
  {
   "cell_type": "code",
   "execution_count": 600,
   "id": "af749b7c",
   "metadata": {},
   "outputs": [],
   "source": [
    "sales_data['order_date'] = pd.to_datetime(sales_data['order_date'])"
   ]
  },
  {
   "cell_type": "code",
   "execution_count": 601,
   "id": "1fed2125",
   "metadata": {},
   "outputs": [],
   "source": [
    "sales_data['ship_date'] = pd.to_datetime(sales_data['ship_date'])"
   ]
  },
  {
   "cell_type": "code",
   "execution_count": 602,
   "id": "13b7b5d1",
   "metadata": {},
   "outputs": [],
   "source": [
    "sales_data['delivery_days'] = (sales_data['ship_date'] - sales_data['order_date']).dt.days"
   ]
  },
  {
   "cell_type": "markdown",
   "id": "558ea1ca",
   "metadata": {},
   "source": [
    "DEFINE THE \"PRICE_PER_ITEM\" SINCE IT WAS NEVER PROVIDED:"
   ]
  },
  {
   "cell_type": "code",
   "execution_count": 603,
   "id": "55a62c9c",
   "metadata": {},
   "outputs": [],
   "source": [
    "sales_data['price_per_item'] = sales_data['sales'] / sales_data['quantity']"
   ]
  },
  {
   "cell_type": "code",
   "execution_count": null,
   "id": "cc93ec37",
   "metadata": {},
   "outputs": [],
   "source": []
  },
  {
   "cell_type": "markdown",
   "id": "a53b6a45",
   "metadata": {},
   "source": [
    "SEE TOTAL EXPENDITURES"
   ]
  },
  {
   "cell_type": "code",
   "execution_count": 604,
   "id": "9b1cbc41",
   "metadata": {},
   "outputs": [],
   "source": [
    "sales_data['spent'] = sales_data['sales'] * sales_data['quantity']"
   ]
  },
  {
   "cell_type": "markdown",
   "id": "2d1753d6",
   "metadata": {},
   "source": [
    "VIEW THE NUMERICAL COLUMNS:"
   ]
  },
  {
   "cell_type": "code",
   "execution_count": 605,
   "id": "af1ea74a",
   "metadata": {},
   "outputs": [],
   "source": [
    "numerical_columns = sales_data.select_dtypes(include=np.number).columns"
   ]
  },
  {
   "cell_type": "code",
   "execution_count": 606,
   "id": "a09634ff",
   "metadata": {},
   "outputs": [
    {
     "data": {
      "text/plain": [
       "Index(['postal_code', 'sales', 'quantity', 'discount', 'profit',\n",
       "       'delivery_days', 'price_per_item', 'spent'],\n",
       "      dtype='object')"
      ]
     },
     "execution_count": 606,
     "metadata": {},
     "output_type": "execute_result"
    }
   ],
   "source": [
    "numerical_columns"
   ]
  },
  {
   "cell_type": "markdown",
   "id": "fc4ace0f",
   "metadata": {},
   "source": [
    "CURRENT SHAPE OF DATASET: Next line shows that dataset has got 9994 rows and 22 columns(features):"
   ]
  },
  {
   "cell_type": "code",
   "execution_count": 607,
   "id": "787407f2",
   "metadata": {},
   "outputs": [
    {
     "data": {
      "text/plain": [
       "(9994, 22)"
      ]
     },
     "execution_count": 607,
     "metadata": {},
     "output_type": "execute_result"
    }
   ],
   "source": [
    "sales_data.shape"
   ]
  },
  {
   "cell_type": "markdown",
   "id": "4a6ec942",
   "metadata": {},
   "source": [
    "THE FOLLOWING PLOT SHOWS POSSIBLE OUTLIERS ON THE QUANTITY DEMANDED THUS FAR:"
   ]
  },
  {
   "cell_type": "code",
   "execution_count": 608,
   "id": "70696eb6",
   "metadata": {},
   "outputs": [
    {
     "data": {
      "text/plain": [
       "<Axes: >"
      ]
     },
     "execution_count": 608,
     "metadata": {},
     "output_type": "execute_result"
    },
    {
     "data": {
      "image/png": "[encoded data removed]",
      "text/plain": [
       "<Figure size 640x480 with 1 Axes>"
      ]
     },
     "metadata": {},
     "output_type": "display_data"
    }
   ],
   "source": [
    "sns.boxplot(sales_data['quantity'])"
   ]
  },
  {
   "cell_type": "code",
   "execution_count": null,
   "id": "d86ab51c",
   "metadata": {},
   "outputs": [],
   "source": []
  },
  {
   "cell_type": "markdown",
   "id": "534194a2",
   "metadata": {},
   "source": [
    "CHECK FOR UNIFORM DISTRIBUTION ACROSS THE NUMERICAL COLUMNS"
   ]
  },
  {
   "cell_type": "code",
   "execution_count": 609,
   "id": "b3ca51ce",
   "metadata": {},
   "outputs": [
    {
     "data": {
      "text/plain": [
       "array([[<Axes: title={'center': 'postal_code'}>,\n",
       "        <Axes: title={'center': 'sales'}>,\n",
       "        <Axes: title={'center': 'quantity'}>],\n",
       "       [<Axes: title={'center': 'discount'}>,\n",
       "        <Axes: title={'center': 'profit'}>,\n",
       "        <Axes: title={'center': 'delivery_days'}>],\n",
       "       [<Axes: title={'center': 'price_per_item'}>,\n",
       "        <Axes: title={'center': 'spent'}>, <Axes: >]], dtype=object)"
      ]
     },
     "execution_count": 609,
     "metadata": {},
     "output_type": "execute_result"
    },
    {
     "data": {
      "image/png": "[encoded data removed]",
      "text/plain": [
       "<Figure size 1200x700 with 9 Axes>"
      ]
     },
     "metadata": {},
     "output_type": "display_data"
    }
   ],
   "source": [
    "sales_data[numerical_columns].hist(bins=10,figsize=(12,7))"
   ]
  },
  {
   "cell_type": "markdown",
   "id": "5a409171",
   "metadata": {},
   "source": [
    "QUANTITY IS \"SCEWED-RIGHT\" DUE TO LOWER BOUND DISTRIBUTION COMPARED TO THE ELEMENTS OF THE DATASET - THIS IS DUE TO CONSTRAINS IMPOSED ON PRICES AND DISCOUNTS FROM THE OBVIOUS SINGLE CATEGORY OF CUSTOMERS ON THE \"SALE\" CHART. THIS IS LIKELY DUE TO THE FACT THAT OTHER CATEGORIES OF CUSTOMERS ARE NOT GETTING AS MUCH DISCOUNT AS EVIDENT ON THE DISCOUNT CHAT AND CALLS FOR A REVISION OF DISOUNT INCENTIVES ALLOTTED TO CUSTOMERS ACROSS BOARD"
   ]
  },
  {
   "cell_type": "markdown",
   "id": "2e70e2fb",
   "metadata": {},
   "source": [
    "ESTABLISH EXISTING CORRELATION BETWEEN THE NUMERIC VALUES"
   ]
  },
  {
   "cell_type": "code",
   "execution_count": 610,
   "id": "60153c3c",
   "metadata": {},
   "outputs": [
    {
     "data": {
      "text/html": [
       "<div>\n",
       "<style scoped>\n",
       "    .dataframe tbody tr th:only-of-type {\n",
       "        vertical-align: middle;\n",
       "    }\n",
       "\n",
       "    .dataframe tbody tr th {\n",
       "        vertical-align: top;\n",
       "    }\n",
       "\n",
       "    .dataframe thead th {\n",
       "        text-align: right;\n",
       "    }\n",
       "</style>\n",
       "<table border=\"1\" class=\"dataframe\">\n",
       "  <thead>\n",
       "    <tr style=\"text-align: right;\">\n",
       "      <th></th>\n",
       "      <th>postal_code</th>\n",
       "      <th>sales</th>\n",
       "      <th>quantity</th>\n",
       "      <th>discount</th>\n",
       "      <th>profit</th>\n",
       "      <th>delivery_days</th>\n",
       "      <th>price_per_item</th>\n",
       "      <th>spent</th>\n",
       "    </tr>\n",
       "  </thead>\n",
       "  <tbody>\n",
       "    <tr>\n",
       "      <th>postal_code</th>\n",
       "      <td>1.000000</td>\n",
       "      <td>-0.023854</td>\n",
       "      <td>0.012761</td>\n",
       "      <td>0.058443</td>\n",
       "      <td>-0.029961</td>\n",
       "      <td>-0.009771</td>\n",
       "      <td>-0.024652</td>\n",
       "      <td>-0.022614</td>\n",
       "    </tr>\n",
       "    <tr>\n",
       "      <th>sales</th>\n",
       "      <td>-0.023854</td>\n",
       "      <td>1.000000</td>\n",
       "      <td>0.200795</td>\n",
       "      <td>-0.028190</td>\n",
       "      <td>0.479064</td>\n",
       "      <td>-0.007354</td>\n",
       "      <td>0.889376</td>\n",
       "      <td>0.914255</td>\n",
       "    </tr>\n",
       "    <tr>\n",
       "      <th>quantity</th>\n",
       "      <td>0.012761</td>\n",
       "      <td>0.200795</td>\n",
       "      <td>1.000000</td>\n",
       "      <td>0.008623</td>\n",
       "      <td>0.066253</td>\n",
       "      <td>0.018298</td>\n",
       "      <td>-0.003148</td>\n",
       "      <td>0.331015</td>\n",
       "    </tr>\n",
       "    <tr>\n",
       "      <th>discount</th>\n",
       "      <td>0.058443</td>\n",
       "      <td>-0.028190</td>\n",
       "      <td>0.008623</td>\n",
       "      <td>1.000000</td>\n",
       "      <td>-0.219487</td>\n",
       "      <td>0.000408</td>\n",
       "      <td>-0.032803</td>\n",
       "      <td>-0.024939</td>\n",
       "    </tr>\n",
       "    <tr>\n",
       "      <th>profit</th>\n",
       "      <td>-0.029961</td>\n",
       "      <td>0.479064</td>\n",
       "      <td>0.066253</td>\n",
       "      <td>-0.219487</td>\n",
       "      <td>1.000000</td>\n",
       "      <td>-0.004649</td>\n",
       "      <td>0.468312</td>\n",
       "      <td>0.410029</td>\n",
       "    </tr>\n",
       "    <tr>\n",
       "      <th>delivery_days</th>\n",
       "      <td>-0.009771</td>\n",
       "      <td>-0.007354</td>\n",
       "      <td>0.018298</td>\n",
       "      <td>0.000408</td>\n",
       "      <td>-0.004649</td>\n",
       "      <td>1.000000</td>\n",
       "      <td>-0.013390</td>\n",
       "      <td>-0.002577</td>\n",
       "    </tr>\n",
       "    <tr>\n",
       "      <th>price_per_item</th>\n",
       "      <td>-0.024652</td>\n",
       "      <td>0.889376</td>\n",
       "      <td>-0.003148</td>\n",
       "      <td>-0.032803</td>\n",
       "      <td>0.468312</td>\n",
       "      <td>-0.013390</td>\n",
       "      <td>1.000000</td>\n",
       "      <td>0.666229</td>\n",
       "    </tr>\n",
       "    <tr>\n",
       "      <th>spent</th>\n",
       "      <td>-0.022614</td>\n",
       "      <td>0.914255</td>\n",
       "      <td>0.331015</td>\n",
       "      <td>-0.024939</td>\n",
       "      <td>0.410029</td>\n",
       "      <td>-0.002577</td>\n",
       "      <td>0.666229</td>\n",
       "      <td>1.000000</td>\n",
       "    </tr>\n",
       "  </tbody>\n",
       "</table>\n",
       "</div>"
      ],
      "text/plain": [
       "                postal_code     sales  quantity  discount    profit  \\\n",
       "postal_code        1.000000 -0.023854  0.012761  0.058443 -0.029961   \n",
       "sales             -0.023854  1.000000  0.200795 -0.028190  0.479064   \n",
       "quantity           0.012761  0.200795  1.000000  0.008623  0.066253   \n",
       "discount           0.058443 -0.028190  0.008623  1.000000 -0.219487   \n",
       "profit            -0.029961  0.479064  0.066253 -0.219487  1.000000   \n",
       "delivery_days     -0.009771 -0.007354  0.018298  0.000408 -0.004649   \n",
       "price_per_item    -0.024652  0.889376 -0.003148 -0.032803  0.468312   \n",
       "spent             -0.022614  0.914255  0.331015 -0.024939  0.410029   \n",
       "\n",
       "                delivery_days  price_per_item     spent  \n",
       "postal_code         -0.009771       -0.024652 -0.022614  \n",
       "sales               -0.007354        0.889376  0.914255  \n",
       "quantity             0.018298       -0.003148  0.331015  \n",
       "discount             0.000408       -0.032803 -0.024939  \n",
       "profit              -0.004649        0.468312  0.410029  \n",
       "delivery_days        1.000000       -0.013390 -0.002577  \n",
       "price_per_item      -0.013390        1.000000  0.666229  \n",
       "spent               -0.002577        0.666229  1.000000  "
      ]
     },
     "execution_count": 610,
     "metadata": {},
     "output_type": "execute_result"
    }
   ],
   "source": [
    "sales_data[numerical_columns].corr()"
   ]
  },
  {
   "cell_type": "code",
   "execution_count": null,
   "id": "ef0cd012",
   "metadata": {},
   "outputs": [],
   "source": []
  },
  {
   "cell_type": "code",
   "execution_count": 611,
   "id": "0284c7a2",
   "metadata": {},
   "outputs": [
    {
     "name": "stderr",
     "output_type": "stream",
     "text": [
      "C:\\Users\\Hunter\\AppData\\Local\\Temp\\ipykernel_2664\\1534672046.py:2: FutureWarning: The default value of numeric_only in DataFrame.corr is deprecated. In a future version, it will default to False. Select only valid columns or specify the value of numeric_only to silence this warning.\n",
      "  sns.heatmap(sales_data.corr(),cmap='bwr',annot=True)\n"
     ]
    },
    {
     "data": {
      "text/plain": [
       "<Axes: >"
      ]
     },
     "execution_count": 611,
     "metadata": {},
     "output_type": "execute_result"
    },
    {
     "data": {
      "image/png": "[encoded data removed]",
      "text/plain": [
       "<Figure size 1600x700 with 2 Axes>"
      ]
     },
     "metadata": {},
     "output_type": "display_data"
    }
   ],
   "source": [
    "plt.figure(figsize=(16,7))\n",
    "sns.heatmap(sales_data.corr(),cmap='bwr',annot=True)"
   ]
  },
  {
   "cell_type": "code",
   "execution_count": null,
   "id": "f26943f7",
   "metadata": {},
   "outputs": [],
   "source": []
  },
  {
   "cell_type": "markdown",
   "id": "85e83313",
   "metadata": {},
   "source": [
    "THERE IS CLEARLY A POSITIVE INVERSE CORRELATION BETWEEN \"SALES\" AND \"SPENT\" BUT IT'S WORTH KNOWING THAT THIS IS ONLY BASED ON A SINGLE CATEGORY OF CUSTOMERS DUE TO DISCOUNT BIASES"
   ]
  },
  {
   "cell_type": "code",
   "execution_count": null,
   "id": "9412a07b",
   "metadata": {},
   "outputs": [],
   "source": []
  },
  {
   "cell_type": "markdown",
   "id": "135f440e",
   "metadata": {},
   "source": [
    "EXPLORE CATEGORICAL FEATURES"
   ]
  },
  {
   "cell_type": "code",
   "execution_count": 612,
   "id": "0e95dd24",
   "metadata": {},
   "outputs": [],
   "source": [
    "sales_data = sales_data.drop('country',axis=1)\n",
    "sales_data = sales_data.drop('customer_id',axis=1)\n",
    "sales_data = sales_data.drop('product_id',axis=1)\n",
    "sales_data = sales_data.drop('order_date',axis=1)\n",
    "sales_data = sales_data.drop('ship_date',axis=1)\n",
    "sales_data = sales_data.drop('customer_name',axis=1)"
   ]
  },
  {
   "cell_type": "code",
   "execution_count": 613,
   "id": "32102b7f",
   "metadata": {},
   "outputs": [],
   "source": [
    "categrical_columns = list(set(sales_data) - set(numerical_columns))"
   ]
  },
  {
   "cell_type": "code",
   "execution_count": 614,
   "id": "98b73837",
   "metadata": {},
   "outputs": [
    {
     "data": {
      "text/plain": [
       "['state',\n",
       " 'segment',\n",
       " 'city',\n",
       " 'category',\n",
       " 'region',\n",
       " 'product_name',\n",
       " 'ship_mode',\n",
       " 'sub_category']"
      ]
     },
     "execution_count": 614,
     "metadata": {},
     "output_type": "execute_result"
    }
   ],
   "source": [
    "categrical_columns"
   ]
  },
  {
   "cell_type": "markdown",
   "id": "9a311a7a",
   "metadata": {},
   "source": [
    "SEE VARIOUS \"ship_mode\" CATEGORIES AND THEIR NUMBER OF OCCURENCE ON THE DATASET:"
   ]
  },
  {
   "cell_type": "code",
   "execution_count": 615,
   "id": "a9b651d5",
   "metadata": {},
   "outputs": [
    {
     "data": {
      "text/plain": [
       "Standard Class    5968\n",
       "Second Class      1945\n",
       "First Class       1538\n",
       "Same Day           543\n",
       "Name: ship_mode, dtype: int64"
      ]
     },
     "execution_count": 615,
     "metadata": {},
     "output_type": "execute_result"
    }
   ],
   "source": [
    "sales_data['ship_mode'].value_counts()"
   ]
  },
  {
   "cell_type": "markdown",
   "id": "16ddc2c3",
   "metadata": {},
   "source": [
    "SEE VARIOUS \"segment\" CATEGORIES AND THEIR NUMBER OF OCCURENCE ON THE DATASET:"
   ]
  },
  {
   "cell_type": "code",
   "execution_count": 616,
   "id": "b23b39c3",
   "metadata": {},
   "outputs": [
    {
     "data": {
      "text/plain": [
       "Consumer       5191\n",
       "Corporate      3020\n",
       "Home Office    1783\n",
       "Name: segment, dtype: int64"
      ]
     },
     "execution_count": 616,
     "metadata": {},
     "output_type": "execute_result"
    }
   ],
   "source": [
    "sales_data['segment'].value_counts()"
   ]
  },
  {
   "cell_type": "markdown",
   "id": "b5ccf1f8",
   "metadata": {},
   "source": [
    "SEE VARIOUS \"category\" FACETS AND THEIR NUMBER OF OCCURENCE ON THE DATASET:"
   ]
  },
  {
   "cell_type": "code",
   "execution_count": 617,
   "id": "04d24633",
   "metadata": {},
   "outputs": [
    {
     "data": {
      "text/plain": [
       "Office Supplies    6026\n",
       "Furniture          2121\n",
       "Technology         1847\n",
       "Name: category, dtype: int64"
      ]
     },
     "execution_count": 617,
     "metadata": {},
     "output_type": "execute_result"
    }
   ],
   "source": [
    "sales_data['category'].value_counts()"
   ]
  },
  {
   "cell_type": "markdown",
   "id": "22705153",
   "metadata": {},
   "source": [
    "SEE VARIOUS \"SUB_CATEGORY\" FACETS AND THEIR NUMBER OF OCCURENCE ON THE DATASET:"
   ]
  },
  {
   "cell_type": "code",
   "execution_count": 618,
   "id": "50eabeef",
   "metadata": {},
   "outputs": [
    {
     "data": {
      "text/plain": [
       "Binders        1523\n",
       "Paper          1370\n",
       "Furnishings     957\n",
       "Phones          889\n",
       "Storage         846\n",
       "Art             796\n",
       "Accessories     775\n",
       "Chairs          617\n",
       "Appliances      466\n",
       "Labels          364\n",
       "Tables          319\n",
       "Envelopes       254\n",
       "Bookcases       228\n",
       "Fasteners       217\n",
       "Supplies        190\n",
       "Machines        115\n",
       "Copiers          68\n",
       "Name: sub_category, dtype: int64"
      ]
     },
     "execution_count": 618,
     "metadata": {},
     "output_type": "execute_result"
    }
   ],
   "source": [
    "sales_data['sub_category'].value_counts()"
   ]
  },
  {
   "cell_type": "markdown",
   "id": "10cb794f",
   "metadata": {},
   "source": [
    "VISUALIZE THE DISTRIBUTIION OF CATEGORICAL FEATURES"
   ]
  },
  {
   "cell_type": "markdown",
   "id": "d2a4e3c5",
   "metadata": {},
   "source": [
    "CLOSELY EXAMINE THE RELATIONSHIP BETWEEN \"PRODUCTS' CATEGORIES\" AND SALES"
   ]
  },
  {
   "cell_type": "code",
   "execution_count": 619,
   "id": "4cfe657a",
   "metadata": {},
   "outputs": [
    {
     "data": {
      "text/plain": [
       "<Axes: xlabel='category', ylabel='sales'>"
      ]
     },
     "execution_count": 619,
     "metadata": {},
     "output_type": "execute_result"
    },
    {
     "data": {
      "image/png": "[encoded data removed]",
      "text/plain": [
       "<Figure size 640x480 with 1 Axes>"
      ]
     },
     "metadata": {},
     "output_type": "display_data"
    }
   ],
   "source": [
    "sorted_furnishes = sales_data.groupby(['category'])['sales'].median().sort_values()\n",
    "sns.boxplot(x=sales_data['category'],y=sales_data['sales'],order=list(sorted_furnishes.index))"
   ]
  },
  {
   "cell_type": "markdown",
   "id": "8dc9d241",
   "metadata": {},
   "source": [
    "THE ABOVE SHOWS THAT THERE HAS NOT BEEN A CORRESPONDING PERFORMANCE ON SALES OF OFFICE SUPPLIES AND FURNITURE AS TECHNOLOGY PRODUCTS"
   ]
  },
  {
   "cell_type": "markdown",
   "id": "aefede66",
   "metadata": {},
   "source": [
    "CLOSELY EXAMINE THE RELATIONSHIP BETWEEN \"CUSTOMER SEGMENT\" AND SALES"
   ]
  },
  {
   "cell_type": "code",
   "execution_count": 620,
   "id": "2feb9134",
   "metadata": {},
   "outputs": [
    {
     "data": {
      "text/plain": [
       "<Axes: xlabel='segment', ylabel='sales'>"
      ]
     },
     "execution_count": 620,
     "metadata": {},
     "output_type": "execute_result"
    },
    {
     "data": {
      "image/png": "[encoded data removed]",
      "text/plain": [
       "<Figure size 640x480 with 1 Axes>"
      ]
     },
     "metadata": {},
     "output_type": "display_data"
    }
   ],
   "source": [
    "sorted_furnishes = sales_data.groupby(['segment'])['sales'].median().sort_values()\n",
    "sns.boxplot(x=sales_data['segment'],y=sales_data['sales'],order=list(sorted_furnishes.index))"
   ]
  },
  {
   "cell_type": "code",
   "execution_count": null,
   "id": "c6d97836",
   "metadata": {},
   "outputs": [],
   "source": []
  },
  {
   "cell_type": "markdown",
   "id": "d0ed8182",
   "metadata": {},
   "source": [
    "THE ABOVE PLOT SHOWS THAT MARKETING AND DISCOUNT INCENTIVE EFFORTS NEED BE SPREAD TOWARDS HOME OFFICE AND CORPORATE SEGMENTS OF CUSTOMERS."
   ]
  },
  {
   "cell_type": "markdown",
   "id": "56682dc4",
   "metadata": {},
   "source": [
    "ENCODE CATEGORICAL FEATURES:"
   ]
  },
  {
   "cell_type": "code",
   "execution_count": 621,
   "id": "782a3ce0",
   "metadata": {},
   "outputs": [],
   "source": [
    "sales_data['category'] = sales_data['category'].replace({'Office Supplies':0,'Furniture':1,'Technology':2})"
   ]
  },
  {
   "cell_type": "code",
   "execution_count": 622,
   "id": "d96c44dd",
   "metadata": {},
   "outputs": [],
   "source": [
    "sales_data['segment'] = sales_data['segment'].replace({'Consumer':0,'Corporate':1,'Home Office':2})"
   ]
  },
  {
   "cell_type": "code",
   "execution_count": 623,
   "id": "1e278e9c",
   "metadata": {},
   "outputs": [],
   "source": [
    "sales_data['ship_mode'] = sales_data['ship_mode'].replace({'Standard Class':0,'Second Class':1,'First Class':2,'Same Day':3})"
   ]
  },
  {
   "cell_type": "code",
   "execution_count": 624,
   "id": "437647eb",
   "metadata": {},
   "outputs": [],
   "source": [
    "sales_data['region'] = sales_data['region'].replace({'West':0,'East':1,'Central':2,'South':3})"
   ]
  },
  {
   "cell_type": "markdown",
   "id": "557860c3",
   "metadata": {},
   "source": [
    "CONVERT DATASET INTO A \"csv\" FILE"
   ]
  },
  {
   "cell_type": "code",
   "execution_count": 625,
   "id": "cc5f10e8",
   "metadata": {},
   "outputs": [],
   "source": [
    "sales_data.to_csv('new_sales_data.csv',header=True)"
   ]
  },
  {
   "cell_type": "markdown",
   "id": "243253b3",
   "metadata": {},
   "source": [
    "SEE THE FIRST 5 ROWS AFTER ENCODING:"
   ]
  },
  {
   "cell_type": "code",
   "execution_count": 626,
   "id": "9451a133",
   "metadata": {},
   "outputs": [
    {
     "data": {
      "text/html": [
       "<div>\n",
       "<style scoped>\n",
       "    .dataframe tbody tr th:only-of-type {\n",
       "        vertical-align: middle;\n",
       "    }\n",
       "\n",
       "    .dataframe tbody tr th {\n",
       "        vertical-align: top;\n",
       "    }\n",
       "\n",
       "    .dataframe thead th {\n",
       "        text-align: right;\n",
       "    }\n",
       "</style>\n",
       "<table border=\"1\" class=\"dataframe\">\n",
       "  <thead>\n",
       "    <tr style=\"text-align: right;\">\n",
       "      <th></th>\n",
       "      <th>ship_mode</th>\n",
       "      <th>segment</th>\n",
       "      <th>city</th>\n",
       "      <th>state</th>\n",
       "      <th>postal_code</th>\n",
       "      <th>region</th>\n",
       "      <th>category</th>\n",
       "      <th>sub_category</th>\n",
       "      <th>product_name</th>\n",
       "      <th>sales</th>\n",
       "      <th>quantity</th>\n",
       "      <th>discount</th>\n",
       "      <th>profit</th>\n",
       "      <th>delivery_days</th>\n",
       "      <th>price_per_item</th>\n",
       "      <th>spent</th>\n",
       "    </tr>\n",
       "  </thead>\n",
       "  <tbody>\n",
       "    <tr>\n",
       "      <th>0</th>\n",
       "      <td>1</td>\n",
       "      <td>0</td>\n",
       "      <td>Henderson</td>\n",
       "      <td>Kentucky</td>\n",
       "      <td>42420</td>\n",
       "      <td>3</td>\n",
       "      <td>1</td>\n",
       "      <td>Bookcases</td>\n",
       "      <td>Bush Somerset Collection Bookcase</td>\n",
       "      <td>261.9600</td>\n",
       "      <td>2</td>\n",
       "      <td>0.00</td>\n",
       "      <td>41.9136</td>\n",
       "      <td>3</td>\n",
       "      <td>130.9800</td>\n",
       "      <td>523.9200</td>\n",
       "    </tr>\n",
       "    <tr>\n",
       "      <th>1</th>\n",
       "      <td>1</td>\n",
       "      <td>0</td>\n",
       "      <td>Henderson</td>\n",
       "      <td>Kentucky</td>\n",
       "      <td>42420</td>\n",
       "      <td>3</td>\n",
       "      <td>1</td>\n",
       "      <td>Chairs</td>\n",
       "      <td>Hon Deluxe Fabric Upholstered Stacking Chairs,...</td>\n",
       "      <td>731.9400</td>\n",
       "      <td>3</td>\n",
       "      <td>0.00</td>\n",
       "      <td>219.5820</td>\n",
       "      <td>3</td>\n",
       "      <td>243.9800</td>\n",
       "      <td>2195.8200</td>\n",
       "    </tr>\n",
       "    <tr>\n",
       "      <th>2</th>\n",
       "      <td>1</td>\n",
       "      <td>1</td>\n",
       "      <td>Los Angeles</td>\n",
       "      <td>California</td>\n",
       "      <td>90036</td>\n",
       "      <td>0</td>\n",
       "      <td>0</td>\n",
       "      <td>Labels</td>\n",
       "      <td>Self-Adhesive Address Labels for Typewriters b...</td>\n",
       "      <td>14.6200</td>\n",
       "      <td>2</td>\n",
       "      <td>0.00</td>\n",
       "      <td>6.8714</td>\n",
       "      <td>4</td>\n",
       "      <td>7.3100</td>\n",
       "      <td>29.2400</td>\n",
       "    </tr>\n",
       "    <tr>\n",
       "      <th>3</th>\n",
       "      <td>0</td>\n",
       "      <td>0</td>\n",
       "      <td>Fort Lauderdale</td>\n",
       "      <td>Florida</td>\n",
       "      <td>33311</td>\n",
       "      <td>3</td>\n",
       "      <td>1</td>\n",
       "      <td>Tables</td>\n",
       "      <td>Bretford CR4500 Series Slim Rectangular Table</td>\n",
       "      <td>957.5775</td>\n",
       "      <td>5</td>\n",
       "      <td>0.45</td>\n",
       "      <td>-383.0310</td>\n",
       "      <td>7</td>\n",
       "      <td>191.5155</td>\n",
       "      <td>4787.8875</td>\n",
       "    </tr>\n",
       "    <tr>\n",
       "      <th>4</th>\n",
       "      <td>0</td>\n",
       "      <td>0</td>\n",
       "      <td>Fort Lauderdale</td>\n",
       "      <td>Florida</td>\n",
       "      <td>33311</td>\n",
       "      <td>3</td>\n",
       "      <td>0</td>\n",
       "      <td>Storage</td>\n",
       "      <td>Eldon Fold 'N Roll Cart System</td>\n",
       "      <td>22.3680</td>\n",
       "      <td>2</td>\n",
       "      <td>0.20</td>\n",
       "      <td>2.5164</td>\n",
       "      <td>7</td>\n",
       "      <td>11.1840</td>\n",
       "      <td>44.7360</td>\n",
       "    </tr>\n",
       "  </tbody>\n",
       "</table>\n",
       "</div>"
      ],
      "text/plain": [
       "   ship_mode  segment             city       state  postal_code  region  \\\n",
       "0          1        0        Henderson    Kentucky        42420       3   \n",
       "1          1        0        Henderson    Kentucky        42420       3   \n",
       "2          1        1      Los Angeles  California        90036       0   \n",
       "3          0        0  Fort Lauderdale     Florida        33311       3   \n",
       "4          0        0  Fort Lauderdale     Florida        33311       3   \n",
       "\n",
       "   category sub_category                                       product_name  \\\n",
       "0         1    Bookcases                  Bush Somerset Collection Bookcase   \n",
       "1         1       Chairs  Hon Deluxe Fabric Upholstered Stacking Chairs,...   \n",
       "2         0       Labels  Self-Adhesive Address Labels for Typewriters b...   \n",
       "3         1       Tables      Bretford CR4500 Series Slim Rectangular Table   \n",
       "4         0      Storage                     Eldon Fold 'N Roll Cart System   \n",
       "\n",
       "      sales  quantity  discount    profit  delivery_days  price_per_item  \\\n",
       "0  261.9600         2      0.00   41.9136              3        130.9800   \n",
       "1  731.9400         3      0.00  219.5820              3        243.9800   \n",
       "2   14.6200         2      0.00    6.8714              4          7.3100   \n",
       "3  957.5775         5      0.45 -383.0310              7        191.5155   \n",
       "4   22.3680         2      0.20    2.5164              7         11.1840   \n",
       "\n",
       "       spent  \n",
       "0   523.9200  \n",
       "1  2195.8200  \n",
       "2    29.2400  \n",
       "3  4787.8875  \n",
       "4    44.7360  "
      ]
     },
     "execution_count": 626,
     "metadata": {},
     "output_type": "execute_result"
    }
   ],
   "source": [
    "sales_data.head()"
   ]
  },
  {
   "cell_type": "markdown",
   "id": "fbec1a92",
   "metadata": {},
   "source": [
    "WORK ON ENCODING OTHER CATEGORICAL FEATURES:"
   ]
  },
  {
   "cell_type": "code",
   "execution_count": 627,
   "id": "1be93210",
   "metadata": {},
   "outputs": [],
   "source": [
    "other_cat_features = sales_data[['city','state','product_name','sub_category']]"
   ]
  },
  {
   "cell_type": "markdown",
   "id": "68633a35",
   "metadata": {},
   "source": [
    "MAKE A COPY OF THE DATASET"
   ]
  },
  {
   "cell_type": "code",
   "execution_count": 628,
   "id": "03ce2a68",
   "metadata": {},
   "outputs": [],
   "source": [
    "alternate_data = sales_data.copy()"
   ]
  },
  {
   "cell_type": "markdown",
   "id": "407d913c",
   "metadata": {},
   "source": [
    "\"LABELENCODER\" UTILITY BILLED TO ENCODE OTHER CATEGORICAL FEATURES:"
   ]
  },
  {
   "cell_type": "code",
   "execution_count": 629,
   "id": "f984aacd",
   "metadata": {},
   "outputs": [],
   "source": [
    "LE = LabelEncoder()"
   ]
  },
  {
   "cell_type": "code",
   "execution_count": 630,
   "id": "acf12ba3",
   "metadata": {},
   "outputs": [],
   "source": [
    "for feature in other_cat_features:\n",
    "    alternate_data[feature] = alternate_data[[feature]].apply(LE.fit_transform)"
   ]
  },
  {
   "cell_type": "markdown",
   "id": "0b3bdd28",
   "metadata": {},
   "source": [
    "VIEW FIRST 5 ROWS OF NEWLY COPIED DATASET"
   ]
  },
  {
   "cell_type": "code",
   "execution_count": 631,
   "id": "5f9c8f80",
   "metadata": {},
   "outputs": [
    {
     "data": {
      "text/html": [
       "<div>\n",
       "<style scoped>\n",
       "    .dataframe tbody tr th:only-of-type {\n",
       "        vertical-align: middle;\n",
       "    }\n",
       "\n",
       "    .dataframe tbody tr th {\n",
       "        vertical-align: top;\n",
       "    }\n",
       "\n",
       "    .dataframe thead th {\n",
       "        text-align: right;\n",
       "    }\n",
       "</style>\n",
       "<table border=\"1\" class=\"dataframe\">\n",
       "  <thead>\n",
       "    <tr style=\"text-align: right;\">\n",
       "      <th></th>\n",
       "      <th>ship_mode</th>\n",
       "      <th>segment</th>\n",
       "      <th>city</th>\n",
       "      <th>state</th>\n",
       "      <th>postal_code</th>\n",
       "      <th>region</th>\n",
       "      <th>category</th>\n",
       "      <th>sub_category</th>\n",
       "      <th>product_name</th>\n",
       "      <th>sales</th>\n",
       "      <th>quantity</th>\n",
       "      <th>discount</th>\n",
       "      <th>profit</th>\n",
       "      <th>delivery_days</th>\n",
       "      <th>price_per_item</th>\n",
       "      <th>spent</th>\n",
       "    </tr>\n",
       "  </thead>\n",
       "  <tbody>\n",
       "    <tr>\n",
       "      <th>0</th>\n",
       "      <td>1</td>\n",
       "      <td>0</td>\n",
       "      <td>194</td>\n",
       "      <td>15</td>\n",
       "      <td>42420</td>\n",
       "      <td>3</td>\n",
       "      <td>1</td>\n",
       "      <td>4</td>\n",
       "      <td>386</td>\n",
       "      <td>261.9600</td>\n",
       "      <td>2</td>\n",
       "      <td>0.00</td>\n",
       "      <td>41.9136</td>\n",
       "      <td>3</td>\n",
       "      <td>130.9800</td>\n",
       "      <td>523.9200</td>\n",
       "    </tr>\n",
       "    <tr>\n",
       "      <th>1</th>\n",
       "      <td>1</td>\n",
       "      <td>0</td>\n",
       "      <td>194</td>\n",
       "      <td>15</td>\n",
       "      <td>42420</td>\n",
       "      <td>3</td>\n",
       "      <td>1</td>\n",
       "      <td>5</td>\n",
       "      <td>839</td>\n",
       "      <td>731.9400</td>\n",
       "      <td>3</td>\n",
       "      <td>0.00</td>\n",
       "      <td>219.5820</td>\n",
       "      <td>3</td>\n",
       "      <td>243.9800</td>\n",
       "      <td>2195.8200</td>\n",
       "    </tr>\n",
       "    <tr>\n",
       "      <th>2</th>\n",
       "      <td>1</td>\n",
       "      <td>1</td>\n",
       "      <td>266</td>\n",
       "      <td>3</td>\n",
       "      <td>90036</td>\n",
       "      <td>0</td>\n",
       "      <td>0</td>\n",
       "      <td>10</td>\n",
       "      <td>1433</td>\n",
       "      <td>14.6200</td>\n",
       "      <td>2</td>\n",
       "      <td>0.00</td>\n",
       "      <td>6.8714</td>\n",
       "      <td>4</td>\n",
       "      <td>7.3100</td>\n",
       "      <td>29.2400</td>\n",
       "    </tr>\n",
       "    <tr>\n",
       "      <th>3</th>\n",
       "      <td>0</td>\n",
       "      <td>0</td>\n",
       "      <td>153</td>\n",
       "      <td>8</td>\n",
       "      <td>33311</td>\n",
       "      <td>3</td>\n",
       "      <td>1</td>\n",
       "      <td>16</td>\n",
       "      <td>366</td>\n",
       "      <td>957.5775</td>\n",
       "      <td>5</td>\n",
       "      <td>0.45</td>\n",
       "      <td>-383.0310</td>\n",
       "      <td>7</td>\n",
       "      <td>191.5155</td>\n",
       "      <td>4787.8875</td>\n",
       "    </tr>\n",
       "    <tr>\n",
       "      <th>4</th>\n",
       "      <td>0</td>\n",
       "      <td>0</td>\n",
       "      <td>153</td>\n",
       "      <td>8</td>\n",
       "      <td>33311</td>\n",
       "      <td>3</td>\n",
       "      <td>0</td>\n",
       "      <td>14</td>\n",
       "      <td>573</td>\n",
       "      <td>22.3680</td>\n",
       "      <td>2</td>\n",
       "      <td>0.20</td>\n",
       "      <td>2.5164</td>\n",
       "      <td>7</td>\n",
       "      <td>11.1840</td>\n",
       "      <td>44.7360</td>\n",
       "    </tr>\n",
       "  </tbody>\n",
       "</table>\n",
       "</div>"
      ],
      "text/plain": [
       "   ship_mode  segment  city  state  postal_code  region  category  \\\n",
       "0          1        0   194     15        42420       3         1   \n",
       "1          1        0   194     15        42420       3         1   \n",
       "2          1        1   266      3        90036       0         0   \n",
       "3          0        0   153      8        33311       3         1   \n",
       "4          0        0   153      8        33311       3         0   \n",
       "\n",
       "   sub_category  product_name     sales  quantity  discount    profit  \\\n",
       "0             4           386  261.9600         2      0.00   41.9136   \n",
       "1             5           839  731.9400         3      0.00  219.5820   \n",
       "2            10          1433   14.6200         2      0.00    6.8714   \n",
       "3            16           366  957.5775         5      0.45 -383.0310   \n",
       "4            14           573   22.3680         2      0.20    2.5164   \n",
       "\n",
       "   delivery_days  price_per_item      spent  \n",
       "0              3        130.9800   523.9200  \n",
       "1              3        243.9800  2195.8200  \n",
       "2              4          7.3100    29.2400  \n",
       "3              7        191.5155  4787.8875  \n",
       "4              7         11.1840    44.7360  "
      ]
     },
     "execution_count": 631,
     "metadata": {},
     "output_type": "execute_result"
    }
   ],
   "source": [
    "alternate_data.head()"
   ]
  },
  {
   "cell_type": "markdown",
   "id": "63367634",
   "metadata": {},
   "source": [
    "IDENTITY OUTLIERS:"
   ]
  },
  {
   "cell_type": "code",
   "execution_count": 632,
   "id": "2a895497",
   "metadata": {},
   "outputs": [
    {
     "name": "stdout",
     "output_type": "stream",
     "text": [
      "ship_mode             1.00000\n",
      "segment               1.00000\n",
      "city                230.00000\n",
      "state                32.00000\n",
      "postal_code       66785.00000\n",
      "region                2.00000\n",
      "category              1.00000\n",
      "sub_category          9.00000\n",
      "product_name        915.75000\n",
      "sales               192.66000\n",
      "quantity              3.00000\n",
      "discount              0.20000\n",
      "profit               27.63525\n",
      "delivery_days         2.00000\n",
      "price_per_item       58.47000\n",
      "spent               714.50800\n",
      "dtype: float64\n"
     ]
    }
   ],
   "source": [
    "Q1 = alternate_data.quantile(0.25)\n",
    "Q3 = alternate_data.quantile(0.75)\n",
    "IQR = Q3 - Q1\n",
    "print(IQR)"
   ]
  },
  {
   "cell_type": "markdown",
   "id": "297f5533",
   "metadata": {},
   "source": [
    "REMOVE OUTLIERS:"
   ]
  },
  {
   "cell_type": "code",
   "execution_count": 633,
   "id": "7738948a",
   "metadata": {},
   "outputs": [
    {
     "data": {
      "text/plain": [
       "(6544, 16)"
      ]
     },
     "execution_count": 633,
     "metadata": {},
     "output_type": "execute_result"
    }
   ],
   "source": [
    "alternate_data = alternate_data[~((alternate_data < (Q1 - 1.5 * IQR)) |(alternate_data > (Q3 + 1.5 * IQR))).any(axis=1)]\n",
    "alternate_data.shape"
   ]
  },
  {
   "cell_type": "code",
   "execution_count": null,
   "id": "087d6069",
   "metadata": {},
   "outputs": [],
   "source": []
  },
  {
   "cell_type": "markdown",
   "id": "78767c4f",
   "metadata": {},
   "source": [
    "DEFINE TRAINING DATA"
   ]
  },
  {
   "cell_type": "code",
   "execution_count": 634,
   "id": "6db622c1",
   "metadata": {},
   "outputs": [],
   "source": [
    "training_data = alternate_data.drop('sales',axis=1)"
   ]
  },
  {
   "cell_type": "markdown",
   "id": "7ce58cfe",
   "metadata": {},
   "source": [
    "DEFINE TEST DATA"
   ]
  },
  {
   "cell_type": "code",
   "execution_count": 635,
   "id": "4b2c0344",
   "metadata": {},
   "outputs": [],
   "source": [
    "test_data = alternate_data['sales']"
   ]
  },
  {
   "cell_type": "markdown",
   "id": "eef9ee6a",
   "metadata": {},
   "source": [
    "SCALE THE DATASET FOR EVEN DISTRIBUTION OF VALUES:"
   ]
  },
  {
   "cell_type": "code",
   "execution_count": 636,
   "id": "9db31494",
   "metadata": {},
   "outputs": [],
   "source": [
    "scaler = StandardScaler()"
   ]
  },
  {
   "cell_type": "code",
   "execution_count": 637,
   "id": "e7e8cb79",
   "metadata": {},
   "outputs": [
    {
     "data": {
      "text/html": [
       "<style>#sk-container-id-29 {color: black;background-color: white;}#sk-container-id-29 pre{padding: 0;}#sk-container-id-29 div.sk-toggleable {background-color: white;}#sk-container-id-29 label.sk-toggleable__label {cursor: pointer;display: block;width: 100%;margin-bottom: 0;padding: 0.3em;box-sizing: border-box;text-align: center;}#sk-container-id-29 label.sk-toggleable__label-arrow:before {content: \"▸\";float: left;margin-right: 0.25em;color: #696969;}#sk-container-id-29 label.sk-toggleable__label-arrow:hover:before {color: black;}#sk-container-id-29 div.sk-estimator:hover label.sk-toggleable__label-arrow:before {color: black;}#sk-container-id-29 div.sk-toggleable__content {max-height: 0;max-width: 0;overflow: hidden;text-align: left;background-color: #f0f8ff;}#sk-container-id-29 div.sk-toggleable__content pre {margin: 0.2em;color: black;border-radius: 0.25em;background-color: #f0f8ff;}#sk-container-id-29 input.sk-toggleable__control:checked~div.sk-toggleable__content {max-height: 200px;max-width: 100%;overflow: auto;}#sk-container-id-29 input.sk-toggleable__control:checked~label.sk-toggleable__label-arrow:before {content: \"▾\";}#sk-container-id-29 div.sk-estimator input.sk-toggleable__control:checked~label.sk-toggleable__label {background-color: #d4ebff;}#sk-container-id-29 div.sk-label input.sk-toggleable__control:checked~label.sk-toggleable__label {background-color: #d4ebff;}#sk-container-id-29 input.sk-hidden--visually {border: 0;clip: rect(1px 1px 1px 1px);clip: rect(1px, 1px, 1px, 1px);height: 1px;margin: -1px;overflow: hidden;padding: 0;position: absolute;width: 1px;}#sk-container-id-29 div.sk-estimator {font-family: monospace;background-color: #f0f8ff;border: 1px dotted black;border-radius: 0.25em;box-sizing: border-box;margin-bottom: 0.5em;}#sk-container-id-29 div.sk-estimator:hover {background-color: #d4ebff;}#sk-container-id-29 div.sk-parallel-item::after {content: \"\";width: 100%;border-bottom: 1px solid gray;flex-grow: 1;}#sk-container-id-29 div.sk-label:hover label.sk-toggleable__label {background-color: #d4ebff;}#sk-container-id-29 div.sk-serial::before {content: \"\";position: absolute;border-left: 1px solid gray;box-sizing: border-box;top: 0;bottom: 0;left: 50%;z-index: 0;}#sk-container-id-29 div.sk-serial {display: flex;flex-direction: column;align-items: center;background-color: white;padding-right: 0.2em;padding-left: 0.2em;position: relative;}#sk-container-id-29 div.sk-item {position: relative;z-index: 1;}#sk-container-id-29 div.sk-parallel {display: flex;align-items: stretch;justify-content: center;background-color: white;position: relative;}#sk-container-id-29 div.sk-item::before, #sk-container-id-29 div.sk-parallel-item::before {content: \"\";position: absolute;border-left: 1px solid gray;box-sizing: border-box;top: 0;bottom: 0;left: 50%;z-index: -1;}#sk-container-id-29 div.sk-parallel-item {display: flex;flex-direction: column;z-index: 1;position: relative;background-color: white;}#sk-container-id-29 div.sk-parallel-item:first-child::after {align-self: flex-end;width: 50%;}#sk-container-id-29 div.sk-parallel-item:last-child::after {align-self: flex-start;width: 50%;}#sk-container-id-29 div.sk-parallel-item:only-child::after {width: 0;}#sk-container-id-29 div.sk-dashed-wrapped {border: 1px dashed gray;margin: 0 0.4em 0.5em 0.4em;box-sizing: border-box;padding-bottom: 0.4em;background-color: white;}#sk-container-id-29 div.sk-label label {font-family: monospace;font-weight: bold;display: inline-block;line-height: 1.2em;}#sk-container-id-29 div.sk-label-container {text-align: center;}#sk-container-id-29 div.sk-container {/* jupyter's `normalize.less` sets `[hidden] { display: none; }` but bootstrap.min.css set `[hidden] { display: none !important; }` so we also need the `!important` here to be able to override the default hidden behavior on the sphinx rendered scikit-learn.org. See: https://github.com/scikit-learn/scikit-learn/issues/21755 */display: inline-block !important;position: relative;}#sk-container-id-29 div.sk-text-repr-fallback {display: none;}</style><div id=\"sk-container-id-29\" class=\"sk-top-container\"><div class=\"sk-text-repr-fallback\"><pre>StandardScaler()</pre><b>In a Jupyter environment, please rerun this cell to show the HTML representation or trust the notebook. <br />On GitHub, the HTML representation is unable to render, please try loading this page with nbviewer.org.</b></div><div class=\"sk-container\" hidden><div class=\"sk-item\"><div class=\"sk-estimator sk-toggleable\"><input class=\"sk-toggleable__control sk-hidden--visually\" id=\"sk-estimator-id-29\" type=\"checkbox\" checked><label for=\"sk-estimator-id-29\" class=\"sk-toggleable__label sk-toggleable__label-arrow\">StandardScaler</label><div class=\"sk-toggleable__content\"><pre>StandardScaler()</pre></div></div></div></div></div>"
      ],
      "text/plain": [
       "StandardScaler()"
      ]
     },
     "execution_count": 637,
     "metadata": {},
     "output_type": "execute_result"
    }
   ],
   "source": [
    "scaler.fit(training_data)"
   ]
  },
  {
   "cell_type": "code",
   "execution_count": 638,
   "id": "1ac7fd01",
   "metadata": {},
   "outputs": [],
   "source": [
    "scaled_data = pd.DataFrame(scaler.transform(training_data),columns= training_data.columns )"
   ]
  },
  {
   "cell_type": "markdown",
   "id": "6cb30a98",
   "metadata": {},
   "source": [
    "SEE FIRST 5 ROWS OF SCALED DATASET:"
   ]
  },
  {
   "cell_type": "code",
   "execution_count": 639,
   "id": "0a00d1db",
   "metadata": {},
   "outputs": [
    {
     "data": {
      "text/html": [
       "<div>\n",
       "<style scoped>\n",
       "    .dataframe tbody tr th:only-of-type {\n",
       "        vertical-align: middle;\n",
       "    }\n",
       "\n",
       "    .dataframe tbody tr th {\n",
       "        vertical-align: top;\n",
       "    }\n",
       "\n",
       "    .dataframe thead th {\n",
       "        text-align: right;\n",
       "    }\n",
       "</style>\n",
       "<table border=\"1\" class=\"dataframe\">\n",
       "  <thead>\n",
       "    <tr style=\"text-align: right;\">\n",
       "      <th></th>\n",
       "      <th>ship_mode</th>\n",
       "      <th>segment</th>\n",
       "      <th>city</th>\n",
       "      <th>state</th>\n",
       "      <th>postal_code</th>\n",
       "      <th>region</th>\n",
       "      <th>category</th>\n",
       "      <th>sub_category</th>\n",
       "      <th>product_name</th>\n",
       "      <th>quantity</th>\n",
       "      <th>discount</th>\n",
       "      <th>profit</th>\n",
       "      <th>delivery_days</th>\n",
       "      <th>price_per_item</th>\n",
       "      <th>spent</th>\n",
       "    </tr>\n",
       "  </thead>\n",
       "  <tbody>\n",
       "    <tr>\n",
       "      <th>0</th>\n",
       "      <td>0.618536</td>\n",
       "      <td>-0.867606</td>\n",
       "      <td>-0.671276</td>\n",
       "      <td>-0.440174</td>\n",
       "      <td>-0.387899</td>\n",
       "      <td>1.679179</td>\n",
       "      <td>0.661891</td>\n",
       "      <td>-0.732792</td>\n",
       "      <td>-1.000416</td>\n",
       "      <td>-0.759589</td>\n",
       "      <td>-0.896115</td>\n",
       "      <td>1.768666</td>\n",
       "      <td>-0.784471</td>\n",
       "      <td>3.725596</td>\n",
       "      <td>0.888069</td>\n",
       "    </tr>\n",
       "    <tr>\n",
       "      <th>1</th>\n",
       "      <td>0.618536</td>\n",
       "      <td>0.448485</td>\n",
       "      <td>-0.147753</td>\n",
       "      <td>-1.214778</td>\n",
       "      <td>1.060774</td>\n",
       "      <td>-1.096174</td>\n",
       "      <td>-0.651455</td>\n",
       "      <td>0.470468</td>\n",
       "      <td>0.881815</td>\n",
       "      <td>-0.759589</td>\n",
       "      <td>-0.896115</td>\n",
       "      <td>-0.342192</td>\n",
       "      <td>-0.125475</td>\n",
       "      <td>-0.554878</td>\n",
       "      <td>-0.681353</td>\n",
       "    </tr>\n",
       "    <tr>\n",
       "      <th>2</th>\n",
       "      <td>-0.702946</td>\n",
       "      <td>-0.867606</td>\n",
       "      <td>-0.969393</td>\n",
       "      <td>-0.892026</td>\n",
       "      <td>-0.665032</td>\n",
       "      <td>1.679179</td>\n",
       "      <td>-0.651455</td>\n",
       "      <td>1.272641</td>\n",
       "      <td>-0.664239</td>\n",
       "      <td>-0.759589</td>\n",
       "      <td>0.993452</td>\n",
       "      <td>-0.604527</td>\n",
       "      <td>1.851514</td>\n",
       "      <td>-0.420790</td>\n",
       "      <td>-0.632190</td>\n",
       "    </tr>\n",
       "    <tr>\n",
       "      <th>3</th>\n",
       "      <td>-0.702946</td>\n",
       "      <td>-0.867606</td>\n",
       "      <td>-0.147753</td>\n",
       "      <td>-1.214778</td>\n",
       "      <td>1.060652</td>\n",
       "      <td>-1.096174</td>\n",
       "      <td>0.661891</td>\n",
       "      <td>0.269924</td>\n",
       "      <td>-0.669632</td>\n",
       "      <td>1.949267</td>\n",
       "      <td>-0.896115</td>\n",
       "      <td>0.097422</td>\n",
       "      <td>0.533521</td>\n",
       "      <td>-0.566299</td>\n",
       "      <td>0.310973</td>\n",
       "    </tr>\n",
       "    <tr>\n",
       "      <th>4</th>\n",
       "      <td>-0.702946</td>\n",
       "      <td>-0.867606</td>\n",
       "      <td>-0.147753</td>\n",
       "      <td>-1.214778</td>\n",
       "      <td>1.060652</td>\n",
       "      <td>-1.096174</td>\n",
       "      <td>-0.651455</td>\n",
       "      <td>-1.133879</td>\n",
       "      <td>0.335303</td>\n",
       "      <td>0.323953</td>\n",
       "      <td>-0.896115</td>\n",
       "      <td>-0.637706</td>\n",
       "      <td>0.533521</td>\n",
       "      <td>-0.744898</td>\n",
       "      <td>-0.681734</td>\n",
       "    </tr>\n",
       "  </tbody>\n",
       "</table>\n",
       "</div>"
      ],
      "text/plain": [
       "   ship_mode   segment      city     state  postal_code    region  category  \\\n",
       "0   0.618536 -0.867606 -0.671276 -0.440174    -0.387899  1.679179  0.661891   \n",
       "1   0.618536  0.448485 -0.147753 -1.214778     1.060774 -1.096174 -0.651455   \n",
       "2  -0.702946 -0.867606 -0.969393 -0.892026    -0.665032  1.679179 -0.651455   \n",
       "3  -0.702946 -0.867606 -0.147753 -1.214778     1.060652 -1.096174  0.661891   \n",
       "4  -0.702946 -0.867606 -0.147753 -1.214778     1.060652 -1.096174 -0.651455   \n",
       "\n",
       "   sub_category  product_name  quantity  discount    profit  delivery_days  \\\n",
       "0     -0.732792     -1.000416 -0.759589 -0.896115  1.768666      -0.784471   \n",
       "1      0.470468      0.881815 -0.759589 -0.896115 -0.342192      -0.125475   \n",
       "2      1.272641     -0.664239 -0.759589  0.993452 -0.604527       1.851514   \n",
       "3      0.269924     -0.669632  1.949267 -0.896115  0.097422       0.533521   \n",
       "4     -1.133879      0.335303  0.323953 -0.896115 -0.637706       0.533521   \n",
       "\n",
       "   price_per_item     spent  \n",
       "0        3.725596  0.888069  \n",
       "1       -0.554878 -0.681353  \n",
       "2       -0.420790 -0.632190  \n",
       "3       -0.566299  0.310973  \n",
       "4       -0.744898 -0.681734  "
      ]
     },
     "execution_count": 639,
     "metadata": {},
     "output_type": "execute_result"
    }
   ],
   "source": [
    "scaled_data.head()"
   ]
  },
  {
   "cell_type": "code",
   "execution_count": null,
   "id": "74ad1f7c",
   "metadata": {},
   "outputs": [],
   "source": []
  },
  {
   "cell_type": "markdown",
   "id": "a479a808",
   "metadata": {},
   "source": [
    "SPLIT DATA INTO TRAINING AND TEST OR UNSEEN DATASET"
   ]
  },
  {
   "cell_type": "code",
   "execution_count": 640,
   "id": "9f75077b",
   "metadata": {},
   "outputs": [],
   "source": [
    "from sklearn.model_selection import train_test_split"
   ]
  },
  {
   "cell_type": "code",
   "execution_count": 641,
   "id": "03859e8a",
   "metadata": {},
   "outputs": [],
   "source": [
    "x_train,x_test, y_train, y_test = train_test_split(training_data,test_data, test_size =0.20, random_state = 3)"
   ]
  },
  {
   "cell_type": "markdown",
   "id": "d768fa52",
   "metadata": {},
   "source": [
    "BUILD MODEL:"
   ]
  },
  {
   "cell_type": "code",
   "execution_count": 642,
   "id": "087e6f5b",
   "metadata": {},
   "outputs": [
    {
     "data": {
      "text/html": [
       "<style>#sk-container-id-30 {color: black;background-color: white;}#sk-container-id-30 pre{padding: 0;}#sk-container-id-30 div.sk-toggleable {background-color: white;}#sk-container-id-30 label.sk-toggleable__label {cursor: pointer;display: block;width: 100%;margin-bottom: 0;padding: 0.3em;box-sizing: border-box;text-align: center;}#sk-container-id-30 label.sk-toggleable__label-arrow:before {content: \"▸\";float: left;margin-right: 0.25em;color: #696969;}#sk-container-id-30 label.sk-toggleable__label-arrow:hover:before {color: black;}#sk-container-id-30 div.sk-estimator:hover label.sk-toggleable__label-arrow:before {color: black;}#sk-container-id-30 div.sk-toggleable__content {max-height: 0;max-width: 0;overflow: hidden;text-align: left;background-color: #f0f8ff;}#sk-container-id-30 div.sk-toggleable__content pre {margin: 0.2em;color: black;border-radius: 0.25em;background-color: #f0f8ff;}#sk-container-id-30 input.sk-toggleable__control:checked~div.sk-toggleable__content {max-height: 200px;max-width: 100%;overflow: auto;}#sk-container-id-30 input.sk-toggleable__control:checked~label.sk-toggleable__label-arrow:before {content: \"▾\";}#sk-container-id-30 div.sk-estimator input.sk-toggleable__control:checked~label.sk-toggleable__label {background-color: #d4ebff;}#sk-container-id-30 div.sk-label input.sk-toggleable__control:checked~label.sk-toggleable__label {background-color: #d4ebff;}#sk-container-id-30 input.sk-hidden--visually {border: 0;clip: rect(1px 1px 1px 1px);clip: rect(1px, 1px, 1px, 1px);height: 1px;margin: -1px;overflow: hidden;padding: 0;position: absolute;width: 1px;}#sk-container-id-30 div.sk-estimator {font-family: monospace;background-color: #f0f8ff;border: 1px dotted black;border-radius: 0.25em;box-sizing: border-box;margin-bottom: 0.5em;}#sk-container-id-30 div.sk-estimator:hover {background-color: #d4ebff;}#sk-container-id-30 div.sk-parallel-item::after {content: \"\";width: 100%;border-bottom: 1px solid gray;flex-grow: 1;}#sk-container-id-30 div.sk-label:hover label.sk-toggleable__label {background-color: #d4ebff;}#sk-container-id-30 div.sk-serial::before {content: \"\";position: absolute;border-left: 1px solid gray;box-sizing: border-box;top: 0;bottom: 0;left: 50%;z-index: 0;}#sk-container-id-30 div.sk-serial {display: flex;flex-direction: column;align-items: center;background-color: white;padding-right: 0.2em;padding-left: 0.2em;position: relative;}#sk-container-id-30 div.sk-item {position: relative;z-index: 1;}#sk-container-id-30 div.sk-parallel {display: flex;align-items: stretch;justify-content: center;background-color: white;position: relative;}#sk-container-id-30 div.sk-item::before, #sk-container-id-30 div.sk-parallel-item::before {content: \"\";position: absolute;border-left: 1px solid gray;box-sizing: border-box;top: 0;bottom: 0;left: 50%;z-index: -1;}#sk-container-id-30 div.sk-parallel-item {display: flex;flex-direction: column;z-index: 1;position: relative;background-color: white;}#sk-container-id-30 div.sk-parallel-item:first-child::after {align-self: flex-end;width: 50%;}#sk-container-id-30 div.sk-parallel-item:last-child::after {align-self: flex-start;width: 50%;}#sk-container-id-30 div.sk-parallel-item:only-child::after {width: 0;}#sk-container-id-30 div.sk-dashed-wrapped {border: 1px dashed gray;margin: 0 0.4em 0.5em 0.4em;box-sizing: border-box;padding-bottom: 0.4em;background-color: white;}#sk-container-id-30 div.sk-label label {font-family: monospace;font-weight: bold;display: inline-block;line-height: 1.2em;}#sk-container-id-30 div.sk-label-container {text-align: center;}#sk-container-id-30 div.sk-container {/* jupyter's `normalize.less` sets `[hidden] { display: none; }` but bootstrap.min.css set `[hidden] { display: none !important; }` so we also need the `!important` here to be able to override the default hidden behavior on the sphinx rendered scikit-learn.org. See: https://github.com/scikit-learn/scikit-learn/issues/21755 */display: inline-block !important;position: relative;}#sk-container-id-30 div.sk-text-repr-fallback {display: none;}</style><div id=\"sk-container-id-30\" class=\"sk-top-container\"><div class=\"sk-text-repr-fallback\"><pre>LinearRegression()</pre><b>In a Jupyter environment, please rerun this cell to show the HTML representation or trust the notebook. <br />On GitHub, the HTML representation is unable to render, please try loading this page with nbviewer.org.</b></div><div class=\"sk-container\" hidden><div class=\"sk-item\"><div class=\"sk-estimator sk-toggleable\"><input class=\"sk-toggleable__control sk-hidden--visually\" id=\"sk-estimator-id-30\" type=\"checkbox\" checked><label for=\"sk-estimator-id-30\" class=\"sk-toggleable__label sk-toggleable__label-arrow\">LinearRegression</label><div class=\"sk-toggleable__content\"><pre>LinearRegression()</pre></div></div></div></div></div>"
      ],
      "text/plain": [
       "LinearRegression()"
      ]
     },
     "execution_count": 642,
     "metadata": {},
     "output_type": "execute_result"
    }
   ],
   "source": [
    "from sklearn.linear_model import LinearRegression\n",
    "regressor =LinearRegression()\n",
    "regressor.fit(x_train, y_train)"
   ]
  },
  {
   "cell_type": "markdown",
   "id": "c2379457",
   "metadata": {},
   "source": [
    "MAKE PREDICTIONS BASED ON UNSEEN DATASET"
   ]
  },
  {
   "cell_type": "code",
   "execution_count": 643,
   "id": "38d39a8d",
   "metadata": {},
   "outputs": [],
   "source": [
    "y_pred = regressor.predict(x_test)"
   ]
  },
  {
   "cell_type": "code",
   "execution_count": 644,
   "id": "55390f5a",
   "metadata": {},
   "outputs": [
    {
     "data": {
      "text/plain": [
       "0.9692849038358143"
      ]
     },
     "execution_count": 644,
     "metadata": {},
     "output_type": "execute_result"
    }
   ],
   "source": [
    "from sklearn.metrics import r2_score, mean_squared_error\n",
    "r2_score(y_test, y_pred)"
   ]
  },
  {
   "cell_type": "markdown",
   "id": "926192cc",
   "metadata": {},
   "source": [
    "THE ABOVE METRIC POINTS TO SOME DECENT MODEL PERFORMANCE BUT TRY \"LASSO\" AND \"RIDGE\" REGRESSION MODELS:"
   ]
  },
  {
   "cell_type": "code",
   "execution_count": null,
   "id": "d9d105e6",
   "metadata": {},
   "outputs": [],
   "source": []
  },
  {
   "cell_type": "code",
   "execution_count": 645,
   "id": "3427c3ad",
   "metadata": {},
   "outputs": [
    {
     "data": {
      "text/html": [
       "<style>#sk-container-id-31 {color: black;background-color: white;}#sk-container-id-31 pre{padding: 0;}#sk-container-id-31 div.sk-toggleable {background-color: white;}#sk-container-id-31 label.sk-toggleable__label {cursor: pointer;display: block;width: 100%;margin-bottom: 0;padding: 0.3em;box-sizing: border-box;text-align: center;}#sk-container-id-31 label.sk-toggleable__label-arrow:before {content: \"▸\";float: left;margin-right: 0.25em;color: #696969;}#sk-container-id-31 label.sk-toggleable__label-arrow:hover:before {color: black;}#sk-container-id-31 div.sk-estimator:hover label.sk-toggleable__label-arrow:before {color: black;}#sk-container-id-31 div.sk-toggleable__content {max-height: 0;max-width: 0;overflow: hidden;text-align: left;background-color: #f0f8ff;}#sk-container-id-31 div.sk-toggleable__content pre {margin: 0.2em;color: black;border-radius: 0.25em;background-color: #f0f8ff;}#sk-container-id-31 input.sk-toggleable__control:checked~div.sk-toggleable__content {max-height: 200px;max-width: 100%;overflow: auto;}#sk-container-id-31 input.sk-toggleable__control:checked~label.sk-toggleable__label-arrow:before {content: \"▾\";}#sk-container-id-31 div.sk-estimator input.sk-toggleable__control:checked~label.sk-toggleable__label {background-color: #d4ebff;}#sk-container-id-31 div.sk-label input.sk-toggleable__control:checked~label.sk-toggleable__label {background-color: #d4ebff;}#sk-container-id-31 input.sk-hidden--visually {border: 0;clip: rect(1px 1px 1px 1px);clip: rect(1px, 1px, 1px, 1px);height: 1px;margin: -1px;overflow: hidden;padding: 0;position: absolute;width: 1px;}#sk-container-id-31 div.sk-estimator {font-family: monospace;background-color: #f0f8ff;border: 1px dotted black;border-radius: 0.25em;box-sizing: border-box;margin-bottom: 0.5em;}#sk-container-id-31 div.sk-estimator:hover {background-color: #d4ebff;}#sk-container-id-31 div.sk-parallel-item::after {content: \"\";width: 100%;border-bottom: 1px solid gray;flex-grow: 1;}#sk-container-id-31 div.sk-label:hover label.sk-toggleable__label {background-color: #d4ebff;}#sk-container-id-31 div.sk-serial::before {content: \"\";position: absolute;border-left: 1px solid gray;box-sizing: border-box;top: 0;bottom: 0;left: 50%;z-index: 0;}#sk-container-id-31 div.sk-serial {display: flex;flex-direction: column;align-items: center;background-color: white;padding-right: 0.2em;padding-left: 0.2em;position: relative;}#sk-container-id-31 div.sk-item {position: relative;z-index: 1;}#sk-container-id-31 div.sk-parallel {display: flex;align-items: stretch;justify-content: center;background-color: white;position: relative;}#sk-container-id-31 div.sk-item::before, #sk-container-id-31 div.sk-parallel-item::before {content: \"\";position: absolute;border-left: 1px solid gray;box-sizing: border-box;top: 0;bottom: 0;left: 50%;z-index: -1;}#sk-container-id-31 div.sk-parallel-item {display: flex;flex-direction: column;z-index: 1;position: relative;background-color: white;}#sk-container-id-31 div.sk-parallel-item:first-child::after {align-self: flex-end;width: 50%;}#sk-container-id-31 div.sk-parallel-item:last-child::after {align-self: flex-start;width: 50%;}#sk-container-id-31 div.sk-parallel-item:only-child::after {width: 0;}#sk-container-id-31 div.sk-dashed-wrapped {border: 1px dashed gray;margin: 0 0.4em 0.5em 0.4em;box-sizing: border-box;padding-bottom: 0.4em;background-color: white;}#sk-container-id-31 div.sk-label label {font-family: monospace;font-weight: bold;display: inline-block;line-height: 1.2em;}#sk-container-id-31 div.sk-label-container {text-align: center;}#sk-container-id-31 div.sk-container {/* jupyter's `normalize.less` sets `[hidden] { display: none; }` but bootstrap.min.css set `[hidden] { display: none !important; }` so we also need the `!important` here to be able to override the default hidden behavior on the sphinx rendered scikit-learn.org. See: https://github.com/scikit-learn/scikit-learn/issues/21755 */display: inline-block !important;position: relative;}#sk-container-id-31 div.sk-text-repr-fallback {display: none;}</style><div id=\"sk-container-id-31\" class=\"sk-top-container\"><div class=\"sk-text-repr-fallback\"><pre>Lasso(alpha=0.9)</pre><b>In a Jupyter environment, please rerun this cell to show the HTML representation or trust the notebook. <br />On GitHub, the HTML representation is unable to render, please try loading this page with nbviewer.org.</b></div><div class=\"sk-container\" hidden><div class=\"sk-item\"><div class=\"sk-estimator sk-toggleable\"><input class=\"sk-toggleable__control sk-hidden--visually\" id=\"sk-estimator-id-31\" type=\"checkbox\" checked><label for=\"sk-estimator-id-31\" class=\"sk-toggleable__label sk-toggleable__label-arrow\">Lasso</label><div class=\"sk-toggleable__content\"><pre>Lasso(alpha=0.9)</pre></div></div></div></div></div>"
      ],
      "text/plain": [
       "Lasso(alpha=0.9)"
      ]
     },
     "execution_count": 645,
     "metadata": {},
     "output_type": "execute_result"
    }
   ],
   "source": [
    "from sklearn.linear_model import Lasso, Ridge\n",
    "ls = Lasso(alpha = 0.9)\n",
    "ls.fit(x_train, y_train)"
   ]
  },
  {
   "cell_type": "code",
   "execution_count": 646,
   "id": "de683191",
   "metadata": {},
   "outputs": [],
   "source": [
    "ls_pred = ls.predict(x_test)"
   ]
  },
  {
   "cell_type": "code",
   "execution_count": 647,
   "id": "508f781b",
   "metadata": {},
   "outputs": [
    {
     "data": {
      "text/html": [
       "<div>\n",
       "<style scoped>\n",
       "    .dataframe tbody tr th:only-of-type {\n",
       "        vertical-align: middle;\n",
       "    }\n",
       "\n",
       "    .dataframe tbody tr th {\n",
       "        vertical-align: top;\n",
       "    }\n",
       "\n",
       "    .dataframe thead th {\n",
       "        text-align: right;\n",
       "    }\n",
       "</style>\n",
       "<table border=\"1\" class=\"dataframe\">\n",
       "  <thead>\n",
       "    <tr style=\"text-align: right;\">\n",
       "      <th></th>\n",
       "      <th>y_test</th>\n",
       "      <th>predicted</th>\n",
       "    </tr>\n",
       "  </thead>\n",
       "  <tbody>\n",
       "    <tr>\n",
       "      <th>4338</th>\n",
       "      <td>113.820</td>\n",
       "      <td>101.314867</td>\n",
       "    </tr>\n",
       "    <tr>\n",
       "      <th>4402</th>\n",
       "      <td>11.328</td>\n",
       "      <td>12.101884</td>\n",
       "    </tr>\n",
       "    <tr>\n",
       "      <th>4439</th>\n",
       "      <td>23.680</td>\n",
       "      <td>19.422348</td>\n",
       "    </tr>\n",
       "    <tr>\n",
       "      <th>2902</th>\n",
       "      <td>23.120</td>\n",
       "      <td>18.616446</td>\n",
       "    </tr>\n",
       "    <tr>\n",
       "      <th>4840</th>\n",
       "      <td>27.580</td>\n",
       "      <td>27.682235</td>\n",
       "    </tr>\n",
       "    <tr>\n",
       "      <th>...</th>\n",
       "      <td>...</td>\n",
       "      <td>...</td>\n",
       "    </tr>\n",
       "    <tr>\n",
       "      <th>5580</th>\n",
       "      <td>47.520</td>\n",
       "      <td>60.185481</td>\n",
       "    </tr>\n",
       "    <tr>\n",
       "      <th>4442</th>\n",
       "      <td>29.200</td>\n",
       "      <td>25.122608</td>\n",
       "    </tr>\n",
       "    <tr>\n",
       "      <th>7735</th>\n",
       "      <td>19.440</td>\n",
       "      <td>16.390659</td>\n",
       "    </tr>\n",
       "    <tr>\n",
       "      <th>6466</th>\n",
       "      <td>68.460</td>\n",
       "      <td>77.825506</td>\n",
       "    </tr>\n",
       "    <tr>\n",
       "      <th>9140</th>\n",
       "      <td>159.980</td>\n",
       "      <td>157.655493</td>\n",
       "    </tr>\n",
       "  </tbody>\n",
       "</table>\n",
       "<p>1309 rows × 2 columns</p>\n",
       "</div>"
      ],
      "text/plain": [
       "       y_test   predicted\n",
       "4338  113.820  101.314867\n",
       "4402   11.328   12.101884\n",
       "4439   23.680   19.422348\n",
       "2902   23.120   18.616446\n",
       "4840   27.580   27.682235\n",
       "...       ...         ...\n",
       "5580   47.520   60.185481\n",
       "4442   29.200   25.122608\n",
       "7735   19.440   16.390659\n",
       "6466   68.460   77.825506\n",
       "9140  159.980  157.655493\n",
       "\n",
       "[1309 rows x 2 columns]"
      ]
     },
     "execution_count": 647,
     "metadata": {},
     "output_type": "execute_result"
    }
   ],
   "source": [
    "pd.DataFrame({'y_test':y_test,'predicted':ls_pred})"
   ]
  },
  {
   "cell_type": "code",
   "execution_count": 648,
   "id": "819b47d1",
   "metadata": {},
   "outputs": [
    {
     "data": {
      "text/plain": [
       "0.9693809535995106"
      ]
     },
     "execution_count": 648,
     "metadata": {},
     "output_type": "execute_result"
    }
   ],
   "source": [
    "r2_score(y_test,ls_pred)"
   ]
  },
  {
   "cell_type": "markdown",
   "id": "bdd46d21",
   "metadata": {},
   "source": [
    "THE ABOVE METRIC POINTS TO A BETTER LASSO REGRESSION MODEL PERFORMANCE THAN THE FIRST BUT GIVE RIDGE REGRESSION A TRY:"
   ]
  },
  {
   "cell_type": "code",
   "execution_count": null,
   "id": "fb922ace",
   "metadata": {},
   "outputs": [],
   "source": []
  },
  {
   "cell_type": "code",
   "execution_count": 649,
   "id": "fd0c2319",
   "metadata": {},
   "outputs": [
    {
     "data": {
      "text/html": [
       "<style>#sk-container-id-32 {color: black;background-color: white;}#sk-container-id-32 pre{padding: 0;}#sk-container-id-32 div.sk-toggleable {background-color: white;}#sk-container-id-32 label.sk-toggleable__label {cursor: pointer;display: block;width: 100%;margin-bottom: 0;padding: 0.3em;box-sizing: border-box;text-align: center;}#sk-container-id-32 label.sk-toggleable__label-arrow:before {content: \"▸\";float: left;margin-right: 0.25em;color: #696969;}#sk-container-id-32 label.sk-toggleable__label-arrow:hover:before {color: black;}#sk-container-id-32 div.sk-estimator:hover label.sk-toggleable__label-arrow:before {color: black;}#sk-container-id-32 div.sk-toggleable__content {max-height: 0;max-width: 0;overflow: hidden;text-align: left;background-color: #f0f8ff;}#sk-container-id-32 div.sk-toggleable__content pre {margin: 0.2em;color: black;border-radius: 0.25em;background-color: #f0f8ff;}#sk-container-id-32 input.sk-toggleable__control:checked~div.sk-toggleable__content {max-height: 200px;max-width: 100%;overflow: auto;}#sk-container-id-32 input.sk-toggleable__control:checked~label.sk-toggleable__label-arrow:before {content: \"▾\";}#sk-container-id-32 div.sk-estimator input.sk-toggleable__control:checked~label.sk-toggleable__label {background-color: #d4ebff;}#sk-container-id-32 div.sk-label input.sk-toggleable__control:checked~label.sk-toggleable__label {background-color: #d4ebff;}#sk-container-id-32 input.sk-hidden--visually {border: 0;clip: rect(1px 1px 1px 1px);clip: rect(1px, 1px, 1px, 1px);height: 1px;margin: -1px;overflow: hidden;padding: 0;position: absolute;width: 1px;}#sk-container-id-32 div.sk-estimator {font-family: monospace;background-color: #f0f8ff;border: 1px dotted black;border-radius: 0.25em;box-sizing: border-box;margin-bottom: 0.5em;}#sk-container-id-32 div.sk-estimator:hover {background-color: #d4ebff;}#sk-container-id-32 div.sk-parallel-item::after {content: \"\";width: 100%;border-bottom: 1px solid gray;flex-grow: 1;}#sk-container-id-32 div.sk-label:hover label.sk-toggleable__label {background-color: #d4ebff;}#sk-container-id-32 div.sk-serial::before {content: \"\";position: absolute;border-left: 1px solid gray;box-sizing: border-box;top: 0;bottom: 0;left: 50%;z-index: 0;}#sk-container-id-32 div.sk-serial {display: flex;flex-direction: column;align-items: center;background-color: white;padding-right: 0.2em;padding-left: 0.2em;position: relative;}#sk-container-id-32 div.sk-item {position: relative;z-index: 1;}#sk-container-id-32 div.sk-parallel {display: flex;align-items: stretch;justify-content: center;background-color: white;position: relative;}#sk-container-id-32 div.sk-item::before, #sk-container-id-32 div.sk-parallel-item::before {content: \"\";position: absolute;border-left: 1px solid gray;box-sizing: border-box;top: 0;bottom: 0;left: 50%;z-index: -1;}#sk-container-id-32 div.sk-parallel-item {display: flex;flex-direction: column;z-index: 1;position: relative;background-color: white;}#sk-container-id-32 div.sk-parallel-item:first-child::after {align-self: flex-end;width: 50%;}#sk-container-id-32 div.sk-parallel-item:last-child::after {align-self: flex-start;width: 50%;}#sk-container-id-32 div.sk-parallel-item:only-child::after {width: 0;}#sk-container-id-32 div.sk-dashed-wrapped {border: 1px dashed gray;margin: 0 0.4em 0.5em 0.4em;box-sizing: border-box;padding-bottom: 0.4em;background-color: white;}#sk-container-id-32 div.sk-label label {font-family: monospace;font-weight: bold;display: inline-block;line-height: 1.2em;}#sk-container-id-32 div.sk-label-container {text-align: center;}#sk-container-id-32 div.sk-container {/* jupyter's `normalize.less` sets `[hidden] { display: none; }` but bootstrap.min.css set `[hidden] { display: none !important; }` so we also need the `!important` here to be able to override the default hidden behavior on the sphinx rendered scikit-learn.org. See: https://github.com/scikit-learn/scikit-learn/issues/21755 */display: inline-block !important;position: relative;}#sk-container-id-32 div.sk-text-repr-fallback {display: none;}</style><div id=\"sk-container-id-32\" class=\"sk-top-container\"><div class=\"sk-text-repr-fallback\"><pre>Ridge(alpha=0.009)</pre><b>In a Jupyter environment, please rerun this cell to show the HTML representation or trust the notebook. <br />On GitHub, the HTML representation is unable to render, please try loading this page with nbviewer.org.</b></div><div class=\"sk-container\" hidden><div class=\"sk-item\"><div class=\"sk-estimator sk-toggleable\"><input class=\"sk-toggleable__control sk-hidden--visually\" id=\"sk-estimator-id-32\" type=\"checkbox\" checked><label for=\"sk-estimator-id-32\" class=\"sk-toggleable__label sk-toggleable__label-arrow\">Ridge</label><div class=\"sk-toggleable__content\"><pre>Ridge(alpha=0.009)</pre></div></div></div></div></div>"
      ],
      "text/plain": [
       "Ridge(alpha=0.009)"
      ]
     },
     "execution_count": 649,
     "metadata": {},
     "output_type": "execute_result"
    }
   ],
   "source": [
    "rr = Ridge(alpha = 0.009)\n",
    "rr.fit(x_train, y_train)"
   ]
  },
  {
   "cell_type": "code",
   "execution_count": 650,
   "id": "3e784233",
   "metadata": {},
   "outputs": [],
   "source": [
    "rr_pred = rr.predict(x_test)"
   ]
  },
  {
   "cell_type": "code",
   "execution_count": 651,
   "id": "cc013818",
   "metadata": {},
   "outputs": [
    {
     "data": {
      "text/plain": [
       "0.9692849038358143"
      ]
     },
     "execution_count": 651,
     "metadata": {},
     "output_type": "execute_result"
    }
   ],
   "source": [
    "r2_score(y_test, y_pred)"
   ]
  },
  {
   "cell_type": "markdown",
   "id": "1f6d4788",
   "metadata": {},
   "source": [
    "THE ABOVE METRIC POINTS TO A RELATIVELY DECENT RIDGE REGRESSION MODEL PERFORMANCE BUT NOT BETTER THAN LASSO'S, SO STICK WITH LASSO REGRESSION MODEL(ls)"
   ]
  },
  {
   "cell_type": "code",
   "execution_count": null,
   "id": "aba7b214",
   "metadata": {},
   "outputs": [],
   "source": []
  },
  {
   "cell_type": "markdown",
   "id": "6adec3d8",
   "metadata": {},
   "source": [
    "VIEW PREDICTED \"sale\" VALUES OF LASSO REGRESSION:"
   ]
  },
  {
   "cell_type": "code",
   "execution_count": 652,
   "id": "aad3bb23",
   "metadata": {},
   "outputs": [],
   "source": [
    "training_data_prediction = ls.predict(x_train)"
   ]
  },
  {
   "cell_type": "code",
   "execution_count": 653,
   "id": "b13bd6d5",
   "metadata": {},
   "outputs": [
    {
     "data": {
      "text/plain": [
       "array([ 20.87958221,  13.28320423, 101.51097569, ...,  29.85902353,\n",
       "       133.70748062,  37.94806309])"
      ]
     },
     "execution_count": 653,
     "metadata": {},
     "output_type": "execute_result"
    }
   ],
   "source": [
    "training_data_prediction"
   ]
  },
  {
   "cell_type": "markdown",
   "id": "7a4a1a7e",
   "metadata": {},
   "source": [
    "VISUALIZE THE AWESOME PERFORMANCE OF THE LASSO REGRESSION MODEL ON THE TRAINING DATASET:"
   ]
  },
  {
   "cell_type": "code",
   "execution_count": 654,
   "id": "b90fe89e",
   "metadata": {},
   "outputs": [
    {
     "data": {
      "image/png": "[encoded data removed]",
      "text/plain": [
       "<Figure size 640x480 with 1 Axes>"
      ]
     },
     "metadata": {},
     "output_type": "display_data"
    }
   ],
   "source": [
    "plt.scatter(y_train, training_data_prediction)\n",
    "plt.xlabel(\"Actual Prices\")\n",
    "plt.ylabel(\"Predicted Prices\")\n",
    "plt.title(\"Actual Price vs Preicted Price\")\n",
    "plt.show()"
   ]
  },
  {
   "cell_type": "markdown",
   "id": "037ca3f9",
   "metadata": {},
   "source": [
    "VISUALIZE THE AWESOME PERFORMANCE OF THE LASSO REGRESSION MODEL ON THE TEST DATASET WHICH SHOWS CLEARLY THAT THE ONE-SIDED BIAS HAS BEEN NULLLIFIED:"
   ]
  },
  {
   "cell_type": "code",
   "execution_count": 655,
   "id": "3f84fd39",
   "metadata": {},
   "outputs": [
    {
     "data": {
      "text/plain": [
       "<matplotlib.collections.PathCollection at 0x12364740110>"
      ]
     },
     "execution_count": 655,
     "metadata": {},
     "output_type": "execute_result"
    },
    {
     "data": {
      "image/png": "[encoded data removed]",
      "text/plain": [
       "<Figure size 640x480 with 1 Axes>"
      ]
     },
     "metadata": {},
     "output_type": "display_data"
    }
   ],
   "source": [
    "plt.scatter(y_test,ls_pred)"
   ]
  },
  {
   "cell_type": "markdown",
   "id": "495aa5c6",
   "metadata": {},
   "source": [
    "SO FAR, WE'VE FACTORED PROFIT MARGIN IN BUILDING THE MODEL, THEREBY STIICKING WITH STATUSQUO ON GAINS AS WELL AS CLOSING THE GAP ON UNEVEN DISCOUNT APPROPRIATION AND OPTIMIZING SALES ACROSS ALL SPHERES OF CUSTOMERS."
   ]
  },
  {
   "cell_type": "markdown",
   "id": "55dd1ac2",
   "metadata": {},
   "source": [
    "REASSIGN TEST DATASET TO THE VARIABLE \"unseen_data\" AS A FIRST STEP TO CONFIRMING THE MODELS'S PERFORMANCE ON SPREADING DISCOUNT OFFERINGS THROUGH ADJUSTMENT OF SALE PRICES:"
   ]
  },
  {
   "cell_type": "code",
   "execution_count": 656,
   "id": "f928bd6e",
   "metadata": {},
   "outputs": [],
   "source": [
    "unseeen_data = x_test"
   ]
  },
  {
   "cell_type": "markdown",
   "id": "2df89132",
   "metadata": {},
   "source": [
    "CREATE A NEW COLUMN CALLED \"new_sales\" TO REPRESENT THE NEW SALES PRICE WHICH INCORPORATES THE EVEN SPREAD IN DISCOUNT:"
   ]
  },
  {
   "cell_type": "code",
   "execution_count": 657,
   "id": "67171a6a",
   "metadata": {},
   "outputs": [],
   "source": [
    "unseeen_data['new_sales'] = ls_pred"
   ]
  },
  {
   "cell_type": "markdown",
   "id": "6b12c166",
   "metadata": {},
   "source": [
    "DEFINE THE NEW PRICES FOR EACH ITEM GOING FORWARD:"
   ]
  },
  {
   "cell_type": "code",
   "execution_count": 658,
   "id": "144c9fa7",
   "metadata": {},
   "outputs": [],
   "source": [
    "unseeen_data['new_price_per_item'] = unseeen_data['new_sales'] / unseeen_data['quantity']"
   ]
  },
  {
   "cell_type": "markdown",
   "id": "f33afb5c",
   "metadata": {},
   "source": [
    "A TABULAR REPRESENTATION WHICH SHOWS A REVAMP OF BUSINESS MODEL IN EFFORTS TO TWEAKING CUSTOMER BEHAVIOUR TOWARDS IMPROVED PATRONAGE:"
   ]
  },
  {
   "cell_type": "code",
   "execution_count": 659,
   "id": "7e8d1398",
   "metadata": {},
   "outputs": [
    {
     "data": {
      "text/html": [
       "<div>\n",
       "<style scoped>\n",
       "    .dataframe tbody tr th:only-of-type {\n",
       "        vertical-align: middle;\n",
       "    }\n",
       "\n",
       "    .dataframe tbody tr th {\n",
       "        vertical-align: top;\n",
       "    }\n",
       "\n",
       "    .dataframe thead th {\n",
       "        text-align: right;\n",
       "    }\n",
       "</style>\n",
       "<table border=\"1\" class=\"dataframe\">\n",
       "  <thead>\n",
       "    <tr style=\"text-align: right;\">\n",
       "      <th></th>\n",
       "      <th>ship_mode</th>\n",
       "      <th>segment</th>\n",
       "      <th>city</th>\n",
       "      <th>state</th>\n",
       "      <th>postal_code</th>\n",
       "      <th>region</th>\n",
       "      <th>category</th>\n",
       "      <th>sub_category</th>\n",
       "      <th>product_name</th>\n",
       "      <th>quantity</th>\n",
       "      <th>discount</th>\n",
       "      <th>profit</th>\n",
       "      <th>delivery_days</th>\n",
       "      <th>price_per_item</th>\n",
       "      <th>spent</th>\n",
       "      <th>new_sales</th>\n",
       "      <th>new_price_per_item</th>\n",
       "    </tr>\n",
       "  </thead>\n",
       "  <tbody>\n",
       "    <tr>\n",
       "      <th>4338</th>\n",
       "      <td>0</td>\n",
       "      <td>2</td>\n",
       "      <td>266</td>\n",
       "      <td>3</td>\n",
       "      <td>90049</td>\n",
       "      <td>0</td>\n",
       "      <td>0</td>\n",
       "      <td>12</td>\n",
       "      <td>1456</td>\n",
       "      <td>3</td>\n",
       "      <td>0.0</td>\n",
       "      <td>53.4954</td>\n",
       "      <td>4</td>\n",
       "      <td>37.940</td>\n",
       "      <td>341.460</td>\n",
       "      <td>101.314867</td>\n",
       "      <td>33.771622</td>\n",
       "    </tr>\n",
       "    <tr>\n",
       "      <th>4402</th>\n",
       "      <td>2</td>\n",
       "      <td>0</td>\n",
       "      <td>92</td>\n",
       "      <td>4</td>\n",
       "      <td>80906</td>\n",
       "      <td>0</td>\n",
       "      <td>0</td>\n",
       "      <td>2</td>\n",
       "      <td>1373</td>\n",
       "      <td>2</td>\n",
       "      <td>0.2</td>\n",
       "      <td>2.5488</td>\n",
       "      <td>1</td>\n",
       "      <td>5.664</td>\n",
       "      <td>22.656</td>\n",
       "      <td>12.101884</td>\n",
       "      <td>6.050942</td>\n",
       "    </tr>\n",
       "    <tr>\n",
       "      <th>4439</th>\n",
       "      <td>0</td>\n",
       "      <td>0</td>\n",
       "      <td>385</td>\n",
       "      <td>41</td>\n",
       "      <td>77642</td>\n",
       "      <td>2</td>\n",
       "      <td>0</td>\n",
       "      <td>12</td>\n",
       "      <td>929</td>\n",
       "      <td>4</td>\n",
       "      <td>0.2</td>\n",
       "      <td>7.4000</td>\n",
       "      <td>6</td>\n",
       "      <td>5.920</td>\n",
       "      <td>94.720</td>\n",
       "      <td>19.422348</td>\n",
       "      <td>4.855587</td>\n",
       "    </tr>\n",
       "    <tr>\n",
       "      <th>2902</th>\n",
       "      <td>0</td>\n",
       "      <td>0</td>\n",
       "      <td>80</td>\n",
       "      <td>11</td>\n",
       "      <td>60610</td>\n",
       "      <td>2</td>\n",
       "      <td>0</td>\n",
       "      <td>12</td>\n",
       "      <td>1768</td>\n",
       "      <td>5</td>\n",
       "      <td>0.2</td>\n",
       "      <td>8.3810</td>\n",
       "      <td>5</td>\n",
       "      <td>4.624</td>\n",
       "      <td>115.600</td>\n",
       "      <td>18.616446</td>\n",
       "      <td>3.723289</td>\n",
       "    </tr>\n",
       "    <tr>\n",
       "      <th>4840</th>\n",
       "      <td>0</td>\n",
       "      <td>2</td>\n",
       "      <td>194</td>\n",
       "      <td>15</td>\n",
       "      <td>42420</td>\n",
       "      <td>3</td>\n",
       "      <td>1</td>\n",
       "      <td>9</td>\n",
       "      <td>31</td>\n",
       "      <td>2</td>\n",
       "      <td>0.0</td>\n",
       "      <td>11.5836</td>\n",
       "      <td>5</td>\n",
       "      <td>13.790</td>\n",
       "      <td>55.160</td>\n",
       "      <td>27.682235</td>\n",
       "      <td>13.841118</td>\n",
       "    </tr>\n",
       "    <tr>\n",
       "      <th>...</th>\n",
       "      <td>...</td>\n",
       "      <td>...</td>\n",
       "      <td>...</td>\n",
       "      <td>...</td>\n",
       "      <td>...</td>\n",
       "      <td>...</td>\n",
       "      <td>...</td>\n",
       "      <td>...</td>\n",
       "      <td>...</td>\n",
       "      <td>...</td>\n",
       "      <td>...</td>\n",
       "      <td>...</td>\n",
       "      <td>...</td>\n",
       "      <td>...</td>\n",
       "      <td>...</td>\n",
       "      <td>...</td>\n",
       "      <td>...</td>\n",
       "    </tr>\n",
       "    <tr>\n",
       "      <th>5580</th>\n",
       "      <td>1</td>\n",
       "      <td>0</td>\n",
       "      <td>266</td>\n",
       "      <td>3</td>\n",
       "      <td>90004</td>\n",
       "      <td>0</td>\n",
       "      <td>0</td>\n",
       "      <td>12</td>\n",
       "      <td>162</td>\n",
       "      <td>9</td>\n",
       "      <td>0.0</td>\n",
       "      <td>22.8096</td>\n",
       "      <td>5</td>\n",
       "      <td>5.280</td>\n",
       "      <td>427.680</td>\n",
       "      <td>60.185481</td>\n",
       "      <td>6.687276</td>\n",
       "    </tr>\n",
       "    <tr>\n",
       "      <th>4442</th>\n",
       "      <td>0</td>\n",
       "      <td>0</td>\n",
       "      <td>516</td>\n",
       "      <td>20</td>\n",
       "      <td>48185</td>\n",
       "      <td>2</td>\n",
       "      <td>0</td>\n",
       "      <td>2</td>\n",
       "      <td>254</td>\n",
       "      <td>5</td>\n",
       "      <td>0.0</td>\n",
       "      <td>10.5120</td>\n",
       "      <td>4</td>\n",
       "      <td>5.840</td>\n",
       "      <td>146.000</td>\n",
       "      <td>25.122608</td>\n",
       "      <td>5.024522</td>\n",
       "    </tr>\n",
       "    <tr>\n",
       "      <th>7735</th>\n",
       "      <td>0</td>\n",
       "      <td>1</td>\n",
       "      <td>452</td>\n",
       "      <td>45</td>\n",
       "      <td>98105</td>\n",
       "      <td>0</td>\n",
       "      <td>0</td>\n",
       "      <td>12</td>\n",
       "      <td>1797</td>\n",
       "      <td>3</td>\n",
       "      <td>0.0</td>\n",
       "      <td>9.3312</td>\n",
       "      <td>4</td>\n",
       "      <td>6.480</td>\n",
       "      <td>58.320</td>\n",
       "      <td>16.390659</td>\n",
       "      <td>5.463553</td>\n",
       "    </tr>\n",
       "    <tr>\n",
       "      <th>6466</th>\n",
       "      <td>1</td>\n",
       "      <td>0</td>\n",
       "      <td>266</td>\n",
       "      <td>3</td>\n",
       "      <td>90008</td>\n",
       "      <td>0</td>\n",
       "      <td>2</td>\n",
       "      <td>0</td>\n",
       "      <td>1057</td>\n",
       "      <td>7</td>\n",
       "      <td>0.0</td>\n",
       "      <td>25.3302</td>\n",
       "      <td>3</td>\n",
       "      <td>9.780</td>\n",
       "      <td>479.220</td>\n",
       "      <td>77.825506</td>\n",
       "      <td>11.117929</td>\n",
       "    </tr>\n",
       "    <tr>\n",
       "      <th>9140</th>\n",
       "      <td>1</td>\n",
       "      <td>2</td>\n",
       "      <td>266</td>\n",
       "      <td>3</td>\n",
       "      <td>90049</td>\n",
       "      <td>0</td>\n",
       "      <td>2</td>\n",
       "      <td>0</td>\n",
       "      <td>1328</td>\n",
       "      <td>2</td>\n",
       "      <td>0.0</td>\n",
       "      <td>47.9940</td>\n",
       "      <td>2</td>\n",
       "      <td>79.990</td>\n",
       "      <td>319.960</td>\n",
       "      <td>157.655493</td>\n",
       "      <td>78.827746</td>\n",
       "    </tr>\n",
       "  </tbody>\n",
       "</table>\n",
       "<p>1309 rows × 17 columns</p>\n",
       "</div>"
      ],
      "text/plain": [
       "      ship_mode  segment  city  state  postal_code  region  category  \\\n",
       "4338          0        2   266      3        90049       0         0   \n",
       "4402          2        0    92      4        80906       0         0   \n",
       "4439          0        0   385     41        77642       2         0   \n",
       "2902          0        0    80     11        60610       2         0   \n",
       "4840          0        2   194     15        42420       3         1   \n",
       "...         ...      ...   ...    ...          ...     ...       ...   \n",
       "5580          1        0   266      3        90004       0         0   \n",
       "4442          0        0   516     20        48185       2         0   \n",
       "7735          0        1   452     45        98105       0         0   \n",
       "6466          1        0   266      3        90008       0         2   \n",
       "9140          1        2   266      3        90049       0         2   \n",
       "\n",
       "      sub_category  product_name  quantity  discount   profit  delivery_days  \\\n",
       "4338            12          1456         3       0.0  53.4954              4   \n",
       "4402             2          1373         2       0.2   2.5488              1   \n",
       "4439            12           929         4       0.2   7.4000              6   \n",
       "2902            12          1768         5       0.2   8.3810              5   \n",
       "4840             9            31         2       0.0  11.5836              5   \n",
       "...            ...           ...       ...       ...      ...            ...   \n",
       "5580            12           162         9       0.0  22.8096              5   \n",
       "4442             2           254         5       0.0  10.5120              4   \n",
       "7735            12          1797         3       0.0   9.3312              4   \n",
       "6466             0          1057         7       0.0  25.3302              3   \n",
       "9140             0          1328         2       0.0  47.9940              2   \n",
       "\n",
       "      price_per_item    spent   new_sales  new_price_per_item  \n",
       "4338          37.940  341.460  101.314867           33.771622  \n",
       "4402           5.664   22.656   12.101884            6.050942  \n",
       "4439           5.920   94.720   19.422348            4.855587  \n",
       "2902           4.624  115.600   18.616446            3.723289  \n",
       "4840          13.790   55.160   27.682235           13.841118  \n",
       "...              ...      ...         ...                 ...  \n",
       "5580           5.280  427.680   60.185481            6.687276  \n",
       "4442           5.840  146.000   25.122608            5.024522  \n",
       "7735           6.480   58.320   16.390659            5.463553  \n",
       "6466           9.780  479.220   77.825506           11.117929  \n",
       "9140          79.990  319.960  157.655493           78.827746  \n",
       "\n",
       "[1309 rows x 17 columns]"
      ]
     },
     "execution_count": 659,
     "metadata": {},
     "output_type": "execute_result"
    }
   ],
   "source": [
    "unseeen_data"
   ]
  },
  {
   "cell_type": "markdown",
   "id": "71fa4696",
   "metadata": {},
   "source": [
    "TOTAL SALES OBTAINED FROM TEST DATASET WITHOUT INCORPORATE THE MODEL"
   ]
  },
  {
   "cell_type": "code",
   "execution_count": 660,
   "id": "c7009d82",
   "metadata": {},
   "outputs": [
    {
     "data": {
      "text/plain": [
       "85324"
      ]
     },
     "execution_count": 660,
     "metadata": {},
     "output_type": "execute_result"
    }
   ],
   "source": [
    "int(sum(y_test))"
   ]
  },
  {
   "cell_type": "markdown",
   "id": "1ed7472a",
   "metadata": {},
   "source": [
    "TOTAL SALES OBTAINED FROM TEST DATASET AFTER INCORPORATING THE MODEL:"
   ]
  },
  {
   "cell_type": "code",
   "execution_count": 661,
   "id": "2e2329eb",
   "metadata": {},
   "outputs": [
    {
     "data": {
      "text/plain": [
       "85741"
      ]
     },
     "execution_count": 661,
     "metadata": {},
     "output_type": "execute_result"
    }
   ],
   "source": [
    "int(sum(unseeen_data['new_sales']))"
   ]
  },
  {
   "cell_type": "code",
   "execution_count": null,
   "id": "62505e0d",
   "metadata": {},
   "outputs": [],
   "source": []
  }
 ],
 "metadata": {
  "kernelspec": {
   "display_name": "Python 3 (ipykernel)",
   "language": "python",
   "name": "python3"
  },
  "language_info": {
   "codemirror_mode": {
    "name": "ipython",
    "version": 3
   },
   "file_extension": ".py",
   "mimetype": "text/x-python",
   "name": "python",
   "nbconvert_exporter": "python",
   "pygments_lexer": "ipython3",
   "version": "3.11.3"
  }
 },
 "nbformat": 4,
 "nbformat_minor": 5
}
